{
 "cells": [
  {
   "cell_type": "code",
   "execution_count": 1,
   "metadata": {},
   "outputs": [],
   "source": [
    "import pickle\n",
    "\n",
    "import numpy as np\n",
    "import pandas as pd\n",
    "import tqdm\n",
    "\n",
    "from datetime import date\n",
    "from pathlib import Path\n",
    "\n",
    "from scipy.stats.stats import spearmanr\n",
    "from scipy.stats.stats import kendalltau\n",
    "from scipy.sparse import vstack, hstack\n",
    "\n",
    "from sklearn.preprocessing import OneHotEncoder\n",
    "from sklearn.linear_model import LogisticRegression\n",
    "\n",
    "from matplotlib import pyplot as plt\n",
    "%matplotlib inline"
   ]
  },
  {
   "cell_type": "markdown",
   "metadata": {},
   "source": [
    "## 1. Прочитайте и проанализируйте данные"
   ]
  },
  {
   "cell_type": "code",
   "execution_count": 2,
   "metadata": {},
   "outputs": [
    {
     "name": "stdout",
     "output_type": "stream",
     "text": [
      "CPU times: user 12.6 s, sys: 1.27 s, total: 13.9 s\n",
      "Wall time: 14 s\n"
     ]
    }
   ],
   "source": [
    "%%time\n",
    "\n",
    "\n",
    "with open('players.pkl', 'rb') as f:\n",
    "    players_data = pickle.load(f)\n",
    "    \n",
    "with open('results.pkl', 'rb') as f:\n",
    "    results_data = pickle.load(f)\n",
    "    \n",
    "with open('tournaments.pkl', 'rb') as f:\n",
    "    tournaments_data = pickle.load(f)"
   ]
  },
  {
   "cell_type": "code",
   "execution_count": 3,
   "metadata": {},
   "outputs": [],
   "source": [
    "#Sanity check\n",
    "\n",
    "for key, value in players_data.items():\n",
    "    assert key == value['id'], (f'Ключ не равен id для игрока: (k, v)')\n",
    "        \n",
    "for key, value in tournaments_data.items():\n",
    "    assert key == value['id'], (f'Ключ не равен id для турнира: (k, v)')"
   ]
  },
  {
   "cell_type": "code",
   "execution_count": 4,
   "metadata": {},
   "outputs": [
    {
     "data": {
      "text/html": [
       "<div>\n",
       "<style scoped>\n",
       "    .dataframe tbody tr th:only-of-type {\n",
       "        vertical-align: middle;\n",
       "    }\n",
       "\n",
       "    .dataframe tbody tr th {\n",
       "        vertical-align: top;\n",
       "    }\n",
       "\n",
       "    .dataframe thead th {\n",
       "        text-align: right;\n",
       "    }\n",
       "</style>\n",
       "<table border=\"1\" class=\"dataframe\">\n",
       "  <thead>\n",
       "    <tr style=\"text-align: right;\">\n",
       "      <th></th>\n",
       "      <th>name</th>\n",
       "      <th>patronymic</th>\n",
       "      <th>surname</th>\n",
       "    </tr>\n",
       "    <tr>\n",
       "      <th>id</th>\n",
       "      <th></th>\n",
       "      <th></th>\n",
       "      <th></th>\n",
       "    </tr>\n",
       "  </thead>\n",
       "  <tbody>\n",
       "    <tr>\n",
       "      <th>1</th>\n",
       "      <td>Алексей</td>\n",
       "      <td>None</td>\n",
       "      <td>Абабилов</td>\n",
       "    </tr>\n",
       "    <tr>\n",
       "      <th>10</th>\n",
       "      <td>Игорь</td>\n",
       "      <td></td>\n",
       "      <td>Абалов</td>\n",
       "    </tr>\n",
       "    <tr>\n",
       "      <th>11</th>\n",
       "      <td>Наталья</td>\n",
       "      <td>Юрьевна</td>\n",
       "      <td>Абалымова</td>\n",
       "    </tr>\n",
       "    <tr>\n",
       "      <th>12</th>\n",
       "      <td>Артур</td>\n",
       "      <td>Евгеньевич</td>\n",
       "      <td>Абальян</td>\n",
       "    </tr>\n",
       "    <tr>\n",
       "      <th>13</th>\n",
       "      <td>Эрик</td>\n",
       "      <td>Евгеньевич</td>\n",
       "      <td>Абальян</td>\n",
       "    </tr>\n",
       "  </tbody>\n",
       "</table>\n",
       "</div>"
      ],
      "text/plain": [
       "       name  patronymic    surname\n",
       "id                                \n",
       "1   Алексей        None   Абабилов\n",
       "10    Игорь                 Абалов\n",
       "11  Наталья     Юрьевна  Абалымова\n",
       "12    Артур  Евгеньевич    Абальян\n",
       "13     Эрик  Евгеньевич    Абальян"
      ]
     },
     "execution_count": 4,
     "metadata": {},
     "output_type": "execute_result"
    }
   ],
   "source": [
    "players = pd.DataFrame(players_data.values()).set_index('id', drop=True)\n",
    "players.head()"
   ]
  },
  {
   "cell_type": "markdown",
   "metadata": {},
   "source": [
    "## Выделение train и test, предобработка данных"
   ]
  },
  {
   "cell_type": "code",
   "execution_count": 5,
   "metadata": {},
   "outputs": [
    {
     "data": {
      "text/html": [
       "<div>\n",
       "<style scoped>\n",
       "    .dataframe tbody tr th:only-of-type {\n",
       "        vertical-align: middle;\n",
       "    }\n",
       "\n",
       "    .dataframe tbody tr th {\n",
       "        vertical-align: top;\n",
       "    }\n",
       "\n",
       "    .dataframe thead th {\n",
       "        text-align: right;\n",
       "    }\n",
       "</style>\n",
       "<table border=\"1\" class=\"dataframe\">\n",
       "  <thead>\n",
       "    <tr style=\"text-align: right;\">\n",
       "      <th></th>\n",
       "      <th>name</th>\n",
       "      <th>dateStart</th>\n",
       "      <th>dateEnd</th>\n",
       "      <th>type</th>\n",
       "      <th>season</th>\n",
       "      <th>synchData</th>\n",
       "      <th>questionQty</th>\n",
       "      <th>year</th>\n",
       "      <th>month</th>\n",
       "    </tr>\n",
       "    <tr>\n",
       "      <th>id</th>\n",
       "      <th></th>\n",
       "      <th></th>\n",
       "      <th></th>\n",
       "      <th></th>\n",
       "      <th></th>\n",
       "      <th></th>\n",
       "      <th></th>\n",
       "      <th></th>\n",
       "      <th></th>\n",
       "    </tr>\n",
       "  </thead>\n",
       "  <tbody>\n",
       "    <tr>\n",
       "      <th>1</th>\n",
       "      <td>Чемпионат Южного Кавказа</td>\n",
       "      <td>2003-07-24 20:00:00+00:00</td>\n",
       "      <td>2003-07-26 20:00:00+00:00</td>\n",
       "      <td>2</td>\n",
       "      <td>/seasons/1</td>\n",
       "      <td>None</td>\n",
       "      <td>None</td>\n",
       "      <td>2003</td>\n",
       "      <td>7</td>\n",
       "    </tr>\n",
       "    <tr>\n",
       "      <th>2</th>\n",
       "      <td>Летние зори</td>\n",
       "      <td>2003-08-08 20:00:00+00:00</td>\n",
       "      <td>2003-08-08 20:00:00+00:00</td>\n",
       "      <td>2</td>\n",
       "      <td>/seasons/1</td>\n",
       "      <td>None</td>\n",
       "      <td>None</td>\n",
       "      <td>2003</td>\n",
       "      <td>8</td>\n",
       "    </tr>\n",
       "    <tr>\n",
       "      <th>3</th>\n",
       "      <td>Турнир в Ижевске</td>\n",
       "      <td>2003-11-21 21:00:00+00:00</td>\n",
       "      <td>2003-11-23 21:00:00+00:00</td>\n",
       "      <td>2</td>\n",
       "      <td>/seasons/2</td>\n",
       "      <td>None</td>\n",
       "      <td>None</td>\n",
       "      <td>2003</td>\n",
       "      <td>11</td>\n",
       "    </tr>\n",
       "    <tr>\n",
       "      <th>4</th>\n",
       "      <td>Чемпионат Украины. Переходной этап</td>\n",
       "      <td>2003-10-10 20:00:00+00:00</td>\n",
       "      <td>2003-10-11 20:00:00+00:00</td>\n",
       "      <td>2</td>\n",
       "      <td>/seasons/2</td>\n",
       "      <td>None</td>\n",
       "      <td>None</td>\n",
       "      <td>2003</td>\n",
       "      <td>10</td>\n",
       "    </tr>\n",
       "    <tr>\n",
       "      <th>5</th>\n",
       "      <td>Бостонское чаепитие</td>\n",
       "      <td>2003-10-09 20:00:00+00:00</td>\n",
       "      <td>2003-10-12 20:00:00+00:00</td>\n",
       "      <td>2</td>\n",
       "      <td>/seasons/2</td>\n",
       "      <td>None</td>\n",
       "      <td>None</td>\n",
       "      <td>2003</td>\n",
       "      <td>10</td>\n",
       "    </tr>\n",
       "  </tbody>\n",
       "</table>\n",
       "</div>"
      ],
      "text/plain": [
       "                                  name                 dateStart  \\\n",
       "id                                                                 \n",
       "1             Чемпионат Южного Кавказа 2003-07-24 20:00:00+00:00   \n",
       "2                          Летние зори 2003-08-08 20:00:00+00:00   \n",
       "3                     Турнир в Ижевске 2003-11-21 21:00:00+00:00   \n",
       "4   Чемпионат Украины. Переходной этап 2003-10-10 20:00:00+00:00   \n",
       "5                  Бостонское чаепитие 2003-10-09 20:00:00+00:00   \n",
       "\n",
       "                     dateEnd  type      season synchData questionQty  year  \\\n",
       "id                                                                           \n",
       "1  2003-07-26 20:00:00+00:00     2  /seasons/1      None        None  2003   \n",
       "2  2003-08-08 20:00:00+00:00     2  /seasons/1      None        None  2003   \n",
       "3  2003-11-23 21:00:00+00:00     2  /seasons/2      None        None  2003   \n",
       "4  2003-10-11 20:00:00+00:00     2  /seasons/2      None        None  2003   \n",
       "5  2003-10-12 20:00:00+00:00     2  /seasons/2      None        None  2003   \n",
       "\n",
       "    month  \n",
       "id         \n",
       "1       7  \n",
       "2       8  \n",
       "3      11  \n",
       "4      10  \n",
       "5      10  "
      ]
     },
     "execution_count": 5,
     "metadata": {},
     "output_type": "execute_result"
    }
   ],
   "source": [
    "tournaments = pd.DataFrame(tournaments_data.values()).set_index('id', drop=True)\n",
    "tournaments['dateStart'] = pd.to_datetime(tournaments['dateStart'], utc=True)\n",
    "tournaments['dateEnd'] = pd.to_datetime(tournaments['dateEnd'], utc=True)\n",
    "\n",
    "tournament_types = {}\n",
    "for tournament in tournaments['type']:\n",
    "    tournament_types[tournament['id']] =  tournament['name']\n",
    "\n",
    "tournaments['type'] = tournaments['type'].apply(lambda x: x['id'])\n",
    "\n",
    "tournaments.drop('orgcommittee', axis=1, inplace=True)\n",
    "tournaments['year'] = tournaments.dateStart.dt.year\n",
    "tournaments['month'] = tournaments.dateStart.dt.month\n",
    "tournaments.head()"
   ]
  },
  {
   "cell_type": "code",
   "execution_count": 6,
   "metadata": {},
   "outputs": [
    {
     "data": {
      "text/html": [
       "<div>\n",
       "<style scoped>\n",
       "    .dataframe tbody tr th:only-of-type {\n",
       "        vertical-align: middle;\n",
       "    }\n",
       "\n",
       "    .dataframe tbody tr th {\n",
       "        vertical-align: top;\n",
       "    }\n",
       "\n",
       "    .dataframe thead th {\n",
       "        text-align: right;\n",
       "    }\n",
       "</style>\n",
       "<table border=\"1\" class=\"dataframe\">\n",
       "  <thead>\n",
       "    <tr style=\"text-align: right;\">\n",
       "      <th></th>\n",
       "      <th>name</th>\n",
       "      <th>dateStart</th>\n",
       "      <th>dateEnd</th>\n",
       "      <th>type</th>\n",
       "      <th>season</th>\n",
       "      <th>synchData</th>\n",
       "      <th>questionQty</th>\n",
       "      <th>year</th>\n",
       "      <th>month</th>\n",
       "      <th>total_questions</th>\n",
       "    </tr>\n",
       "    <tr>\n",
       "      <th>id</th>\n",
       "      <th></th>\n",
       "      <th></th>\n",
       "      <th></th>\n",
       "      <th></th>\n",
       "      <th></th>\n",
       "      <th></th>\n",
       "      <th></th>\n",
       "      <th></th>\n",
       "      <th></th>\n",
       "      <th></th>\n",
       "    </tr>\n",
       "  </thead>\n",
       "  <tbody>\n",
       "    <tr>\n",
       "      <th>4628</th>\n",
       "      <td>Семь сорок</td>\n",
       "      <td>2020-12-30 13:00:00+00:00</td>\n",
       "      <td>2020-12-30 13:00:00+00:00</td>\n",
       "      <td>3</td>\n",
       "      <td>None</td>\n",
       "      <td>{'dateRequestsAllowedTo': '2020-12-30T23:55:00...</td>\n",
       "      <td>{'1': 12, '2': 12, '3': 12}</td>\n",
       "      <td>2020</td>\n",
       "      <td>12</td>\n",
       "      <td>36</td>\n",
       "    </tr>\n",
       "    <tr>\n",
       "      <th>4772</th>\n",
       "      <td>Синхрон северных стран. Зимний выпуск</td>\n",
       "      <td>2019-01-05 16:00:00+00:00</td>\n",
       "      <td>2019-01-09 16:00:00+00:00</td>\n",
       "      <td>3</td>\n",
       "      <td>/seasons/52</td>\n",
       "      <td>{'dateRequestsAllowedTo': '2019-01-09T23:59:59...</td>\n",
       "      <td>{'1': 12, '2': 12, '3': 12}</td>\n",
       "      <td>2019</td>\n",
       "      <td>1</td>\n",
       "      <td>36</td>\n",
       "    </tr>\n",
       "    <tr>\n",
       "      <th>4957</th>\n",
       "      <td>Синхрон Биркиркары</td>\n",
       "      <td>2020-02-20 21:00:00+00:00</td>\n",
       "      <td>2020-02-27 20:00:00+00:00</td>\n",
       "      <td>3</td>\n",
       "      <td>/seasons/53</td>\n",
       "      <td>{'dateRequestsAllowedTo': '2020-02-27T18:00:00...</td>\n",
       "      <td>{'1': 13, '2': 13, '3': 13}</td>\n",
       "      <td>2020</td>\n",
       "      <td>2</td>\n",
       "      <td>39</td>\n",
       "    </tr>\n",
       "    <tr>\n",
       "      <th>4973</th>\n",
       "      <td>Балтийский Берег. 3 игра</td>\n",
       "      <td>2019-01-25 16:05:00+00:00</td>\n",
       "      <td>2019-01-29 16:00:00+00:00</td>\n",
       "      <td>3</td>\n",
       "      <td>/seasons/52</td>\n",
       "      <td>{'dateRequestsAllowedTo': '2019-01-28T23:59:59...</td>\n",
       "      <td>{'1': 12, '2': 12, '3': 12}</td>\n",
       "      <td>2019</td>\n",
       "      <td>1</td>\n",
       "      <td>36</td>\n",
       "    </tr>\n",
       "    <tr>\n",
       "      <th>4974</th>\n",
       "      <td>Балтийский Берег. 4 игра</td>\n",
       "      <td>2019-03-01 16:05:00+00:00</td>\n",
       "      <td>2019-03-05 16:00:00+00:00</td>\n",
       "      <td>3</td>\n",
       "      <td>/seasons/52</td>\n",
       "      <td>{'dateRequestsAllowedTo': '2019-03-04T23:59:59...</td>\n",
       "      <td>{'1': 12, '2': 12, '3': 12}</td>\n",
       "      <td>2019</td>\n",
       "      <td>3</td>\n",
       "      <td>36</td>\n",
       "    </tr>\n",
       "  </tbody>\n",
       "</table>\n",
       "</div>"
      ],
      "text/plain": [
       "                                       name                 dateStart  \\\n",
       "id                                                                      \n",
       "4628                             Семь сорок 2020-12-30 13:00:00+00:00   \n",
       "4772  Синхрон северных стран. Зимний выпуск 2019-01-05 16:00:00+00:00   \n",
       "4957                     Синхрон Биркиркары 2020-02-20 21:00:00+00:00   \n",
       "4973               Балтийский Берег. 3 игра 2019-01-25 16:05:00+00:00   \n",
       "4974               Балтийский Берег. 4 игра 2019-03-01 16:05:00+00:00   \n",
       "\n",
       "                       dateEnd  type       season  \\\n",
       "id                                                  \n",
       "4628 2020-12-30 13:00:00+00:00     3         None   \n",
       "4772 2019-01-09 16:00:00+00:00     3  /seasons/52   \n",
       "4957 2020-02-27 20:00:00+00:00     3  /seasons/53   \n",
       "4973 2019-01-29 16:00:00+00:00     3  /seasons/52   \n",
       "4974 2019-03-05 16:00:00+00:00     3  /seasons/52   \n",
       "\n",
       "                                              synchData  \\\n",
       "id                                                        \n",
       "4628  {'dateRequestsAllowedTo': '2020-12-30T23:55:00...   \n",
       "4772  {'dateRequestsAllowedTo': '2019-01-09T23:59:59...   \n",
       "4957  {'dateRequestsAllowedTo': '2020-02-27T18:00:00...   \n",
       "4973  {'dateRequestsAllowedTo': '2019-01-28T23:59:59...   \n",
       "4974  {'dateRequestsAllowedTo': '2019-03-04T23:59:59...   \n",
       "\n",
       "                      questionQty  year  month  total_questions  \n",
       "id                                                               \n",
       "4628  {'1': 12, '2': 12, '3': 12}  2020     12               36  \n",
       "4772  {'1': 12, '2': 12, '3': 12}  2019      1               36  \n",
       "4957  {'1': 13, '2': 13, '3': 13}  2020      2               39  \n",
       "4973  {'1': 12, '2': 12, '3': 12}  2019      1               36  \n",
       "4974  {'1': 12, '2': 12, '3': 12}  2019      3               36  "
      ]
     },
     "execution_count": 6,
     "metadata": {},
     "output_type": "execute_result"
    }
   ],
   "source": [
    "tournaments = tournaments[tournaments.year >= 2019]\n",
    "\n",
    "# Добавим общее количество вопросов на турнире\n",
    "tournaments['total_questions'] = tournaments.questionQty.apply(lambda x: sum((v for k, v in x.items())))\n",
    "tournaments.head()"
   ]
  },
  {
   "cell_type": "code",
   "execution_count": 7,
   "metadata": {},
   "outputs": [
    {
     "name": "stdout",
     "output_type": "stream",
     "text": [
      "Турниров в train: 689\n",
      "Турниров в test: 416\n",
      "Всего вопросов в train 34161\n",
      "Всего вопросов в test 18135\n"
     ]
    }
   ],
   "source": [
    "train_tournaments = tournaments[tournaments.year == 2019]\n",
    "test_tournaments = tournaments[tournaments.year == 2020]\n",
    "\n",
    "print(f'Турниров в train: {len(train_tournaments)}')\n",
    "print(f'Турниров в test: {len(test_tournaments)}')\n",
    "print(f'Всего вопросов в train {train_tournaments.total_questions.sum()}')\n",
    "print(f'Всего вопросов в test {test_tournaments.total_questions.sum()}')"
   ]
  },
  {
   "cell_type": "code",
   "execution_count": 8,
   "metadata": {},
   "outputs": [],
   "source": [
    "def get_players_and_questions_qty(results_data, tournaments):\n",
    "    players = set()\n",
    "    for idx in tournaments.index:\n",
    "        for team in results_data[idx]:\n",
    "            team_id = team['team']['id']\n",
    "            for player in team['teamMembers']:\n",
    "                player_id = player['player']['id']\n",
    "                players.add(player_id)\n",
    "    return len(players), tournaments.total_questions.sum()"
   ]
  },
  {
   "cell_type": "code",
   "execution_count": 9,
   "metadata": {},
   "outputs": [
    {
     "data": {
      "text/plain": [
       "(59394, 34161)"
      ]
     },
     "execution_count": 9,
     "metadata": {},
     "output_type": "execute_result"
    }
   ],
   "source": [
    "get_players_and_questions_qty(results_data, train_tournaments)"
   ]
  },
  {
   "cell_type": "markdown",
   "metadata": {},
   "source": [
    "## 2. Построение baseline-модели на основе линейной или логистической регрессии, которая будет обучать рейтинг-лист игроков."
   ]
  },
  {
   "cell_type": "markdown",
   "metadata": {},
   "source": [
    "### Соберем список вопросов со сложностью и информацию об ответах игроков"
   ]
  },
  {
   "cell_type": "code",
   "execution_count": 10,
   "metadata": {},
   "outputs": [
    {
     "name": "stdout",
     "output_type": "stream",
     "text": [
      "CPU times: user 23.3 s, sys: 1.73 s, total: 25 s\n",
      "Wall time: 25 s\n"
     ]
    },
    {
     "data": {
      "text/html": [
       "<div>\n",
       "<style scoped>\n",
       "    .dataframe tbody tr th:only-of-type {\n",
       "        vertical-align: middle;\n",
       "    }\n",
       "\n",
       "    .dataframe tbody tr th {\n",
       "        vertical-align: top;\n",
       "    }\n",
       "\n",
       "    .dataframe thead th {\n",
       "        text-align: right;\n",
       "    }\n",
       "</style>\n",
       "<table border=\"1\" class=\"dataframe\">\n",
       "  <thead>\n",
       "    <tr style=\"text-align: right;\">\n",
       "      <th></th>\n",
       "      <th>id</th>\n",
       "      <th>tournament</th>\n",
       "      <th>question</th>\n",
       "      <th>canceled</th>\n",
       "      <th>positive</th>\n",
       "      <th>negative</th>\n",
       "      <th>difficulty</th>\n",
       "    </tr>\n",
       "  </thead>\n",
       "  <tbody>\n",
       "    <tr>\n",
       "      <th>0</th>\n",
       "      <td>4772_0</td>\n",
       "      <td>4772</td>\n",
       "      <td>0</td>\n",
       "      <td>0</td>\n",
       "      <td>204</td>\n",
       "      <td>27</td>\n",
       "      <td>0.116883</td>\n",
       "    </tr>\n",
       "    <tr>\n",
       "      <th>1</th>\n",
       "      <td>4772_1</td>\n",
       "      <td>4772</td>\n",
       "      <td>1</td>\n",
       "      <td>0</td>\n",
       "      <td>180</td>\n",
       "      <td>51</td>\n",
       "      <td>0.220779</td>\n",
       "    </tr>\n",
       "    <tr>\n",
       "      <th>2</th>\n",
       "      <td>4772_2</td>\n",
       "      <td>4772</td>\n",
       "      <td>2</td>\n",
       "      <td>0</td>\n",
       "      <td>103</td>\n",
       "      <td>128</td>\n",
       "      <td>0.554113</td>\n",
       "    </tr>\n",
       "    <tr>\n",
       "      <th>3</th>\n",
       "      <td>4772_3</td>\n",
       "      <td>4772</td>\n",
       "      <td>3</td>\n",
       "      <td>0</td>\n",
       "      <td>120</td>\n",
       "      <td>111</td>\n",
       "      <td>0.480519</td>\n",
       "    </tr>\n",
       "    <tr>\n",
       "      <th>4</th>\n",
       "      <td>4772_4</td>\n",
       "      <td>4772</td>\n",
       "      <td>4</td>\n",
       "      <td>0</td>\n",
       "      <td>203</td>\n",
       "      <td>28</td>\n",
       "      <td>0.121212</td>\n",
       "    </tr>\n",
       "  </tbody>\n",
       "</table>\n",
       "</div>"
      ],
      "text/plain": [
       "       id  tournament  question  canceled  positive  negative  difficulty\n",
       "0  4772_0        4772         0         0       204        27    0.116883\n",
       "1  4772_1        4772         1         0       180        51    0.220779\n",
       "2  4772_2        4772         2         0       103       128    0.554113\n",
       "3  4772_3        4772         3         0       120       111    0.480519\n",
       "4  4772_4        4772         4         0       203        28    0.121212"
      ]
     },
     "execution_count": 10,
     "metadata": {},
     "output_type": "execute_result"
    }
   ],
   "source": [
    "%%time\n",
    "\n",
    "questions_difficulty = []\n",
    "players = []\n",
    "\n",
    "for idx in train_tournaments.index:\n",
    "    total_questions = train_tournaments.loc[idx].total_questions\n",
    "    \n",
    "    correct = np.zeros(total_questions, dtype=int)\n",
    "    wrong = np.zeros(total_questions, dtype=int)\n",
    "    canceled = np.zeros(total_questions, dtype=int)\n",
    "    \n",
    "    team_qty = len(results_data[idx])\n",
    "    for team in results_data[idx]:\n",
    "        if 'mask' not in team:\n",
    "            continue\n",
    "        mask = team['mask']\n",
    "        if mask is None:\n",
    "            continue\n",
    "        canceled = np.array([1 if a=='X' else 0 for a in mask])\n",
    "        mask = np.array([1 if a=='1' else 0 for a in mask])\n",
    "        if len(mask) > total_questions:\n",
    "            mask = mask[:total_questions]\n",
    "        correct[:len(mask)] += mask\n",
    "        wrong[:len(mask)] += (1 - mask)\n",
    "        for player in team['teamMembers']:\n",
    "            player_id = player['player']['id']\n",
    "            for i, (pos, neg) in enumerate(zip(mask, 1 - mask)):\n",
    "                if pos == 1:\n",
    "                    players.append({'player_id': player_id, 'question': f'{idx}_{i}',\n",
    "                                    'answered': 1, 'not_answered': 0})\n",
    "                if neg == 1:\n",
    "                    players.append({'player_id': player_id, 'question': f'{idx}_{i}',\n",
    "                                    'answered': 0, 'not_answered': 1})\n",
    "            \n",
    "\n",
    "    for i, (pos, neg, cnl) in enumerate(zip(correct, wrong, canceled)):\n",
    "        if np.all(pos == 0) and np.all(neg == 0):\n",
    "            continue\n",
    "        questions_difficulty.append({'id': f'{idx}_{i}',\n",
    "                                     'tournament': idx, 'question': i,\n",
    "                                     'canceled': cnl,\n",
    "                                     'positive': pos, 'negative': neg,\n",
    "                                     'difficulty': 1 - pos/(pos + neg)})\n",
    "        \n",
    "questions = pd.DataFrame(questions_difficulty)\n",
    "questions.head()"
   ]
  },
  {
   "cell_type": "code",
   "execution_count": 11,
   "metadata": {},
   "outputs": [
    {
     "data": {
      "text/html": [
       "<div>\n",
       "<style scoped>\n",
       "    .dataframe tbody tr th:only-of-type {\n",
       "        vertical-align: middle;\n",
       "    }\n",
       "\n",
       "    .dataframe tbody tr th {\n",
       "        vertical-align: top;\n",
       "    }\n",
       "\n",
       "    .dataframe thead th {\n",
       "        text-align: right;\n",
       "    }\n",
       "</style>\n",
       "<table border=\"1\" class=\"dataframe\">\n",
       "  <thead>\n",
       "    <tr style=\"text-align: right;\">\n",
       "      <th></th>\n",
       "      <th>player_id</th>\n",
       "      <th>question</th>\n",
       "      <th>answered</th>\n",
       "      <th>not_answered</th>\n",
       "    </tr>\n",
       "  </thead>\n",
       "  <tbody>\n",
       "    <tr>\n",
       "      <th>0</th>\n",
       "      <td>6212</td>\n",
       "      <td>4772_0</td>\n",
       "      <td>1</td>\n",
       "      <td>0</td>\n",
       "    </tr>\n",
       "    <tr>\n",
       "      <th>1</th>\n",
       "      <td>6212</td>\n",
       "      <td>4772_1</td>\n",
       "      <td>1</td>\n",
       "      <td>0</td>\n",
       "    </tr>\n",
       "    <tr>\n",
       "      <th>2</th>\n",
       "      <td>6212</td>\n",
       "      <td>4772_2</td>\n",
       "      <td>1</td>\n",
       "      <td>0</td>\n",
       "    </tr>\n",
       "    <tr>\n",
       "      <th>3</th>\n",
       "      <td>6212</td>\n",
       "      <td>4772_3</td>\n",
       "      <td>1</td>\n",
       "      <td>0</td>\n",
       "    </tr>\n",
       "    <tr>\n",
       "      <th>4</th>\n",
       "      <td>6212</td>\n",
       "      <td>4772_4</td>\n",
       "      <td>1</td>\n",
       "      <td>0</td>\n",
       "    </tr>\n",
       "  </tbody>\n",
       "</table>\n",
       "</div>"
      ],
      "text/plain": [
       "   player_id question  answered  not_answered\n",
       "0       6212   4772_0         1             0\n",
       "1       6212   4772_1         1             0\n",
       "2       6212   4772_2         1             0\n",
       "3       6212   4772_3         1             0\n",
       "4       6212   4772_4         1             0"
      ]
     },
     "execution_count": 11,
     "metadata": {},
     "output_type": "execute_result"
    }
   ],
   "source": [
    "player_result = pd.DataFrame(players)\n",
    "player_result.head()"
   ]
  },
  {
   "cell_type": "code",
   "execution_count": 12,
   "metadata": {},
   "outputs": [],
   "source": [
    "# Уберем из рассмотрения исключенные вопросы\n",
    "questions = questions[questions.canceled==0]"
   ]
  },
  {
   "cell_type": "code",
   "execution_count": 13,
   "metadata": {},
   "outputs": [
    {
     "data": {
      "image/png": "[encoded data removed]",
      "text/plain": [
       "<Figure size 432x288 with 1 Axes>"
      ]
     },
     "metadata": {
      "needs_background": "light"
     },
     "output_type": "display_data"
    }
   ],
   "source": [
    "questions.difficulty.hist(bins=100)\n",
    "plt.title('Сложность вопросов')\n",
    "plt.show()"
   ]
  },
  {
   "cell_type": "code",
   "execution_count": 14,
   "metadata": {},
   "outputs": [
    {
     "data": {
      "image/png": "[encoded data removed]",
      "text/plain": [
       "<Figure size 432x288 with 1 Axes>"
      ]
     },
     "metadata": {
      "needs_background": "light"
     },
     "output_type": "display_data"
    }
   ],
   "source": [
    "questions.groupby(['tournament']).agg({'difficulty': 'median'}).hist(bins=50)\n",
    "plt.title('Медианная сложность турниров по вопросам')\n",
    "plt.show()"
   ]
  },
  {
   "cell_type": "markdown",
   "metadata": {},
   "source": [
    "### Разделим вопросы на n_levels уровней сложности и по ним будем строить предсказания рейтинга"
   ]
  },
  {
   "cell_type": "code",
   "execution_count": 15,
   "metadata": {},
   "outputs": [],
   "source": [
    "n_levels = 5\n",
    "quantiles = [questions.difficulty.quantile(i/n_levels) for i in range(1, n_levels + 1)]\n",
    "questions['level'] = 0\n",
    "for i in range(n_levels, 0, -1):\n",
    "    questions.loc[questions.difficulty <= quantiles[i - 1], 'level'] = i"
   ]
  },
  {
   "cell_type": "markdown",
   "metadata": {},
   "source": [
    "Для каждого игрока признаками будет:\n",
    "\n",
    "1. количество вопросов каждой сложности, на которые он ответил правильно\n",
    "2. количество вопросов каждой сложности, на котороые он не ответил правильно"
   ]
  },
  {
   "cell_type": "code",
   "execution_count": 16,
   "metadata": {},
   "outputs": [
    {
     "data": {
      "text/html": [
       "<div>\n",
       "<style scoped>\n",
       "    .dataframe tbody tr th:only-of-type {\n",
       "        vertical-align: middle;\n",
       "    }\n",
       "\n",
       "    .dataframe tbody tr th {\n",
       "        vertical-align: top;\n",
       "    }\n",
       "\n",
       "    .dataframe thead th {\n",
       "        text-align: right;\n",
       "    }\n",
       "</style>\n",
       "<table border=\"1\" class=\"dataframe\">\n",
       "  <thead>\n",
       "    <tr style=\"text-align: right;\">\n",
       "      <th></th>\n",
       "      <th>player_id</th>\n",
       "      <th>question_x</th>\n",
       "      <th>answered</th>\n",
       "      <th>not_answered</th>\n",
       "      <th>id</th>\n",
       "      <th>tournament</th>\n",
       "      <th>question_y</th>\n",
       "      <th>canceled</th>\n",
       "      <th>positive</th>\n",
       "      <th>negative</th>\n",
       "      <th>difficulty</th>\n",
       "      <th>level</th>\n",
       "    </tr>\n",
       "  </thead>\n",
       "  <tbody>\n",
       "    <tr>\n",
       "      <th>0</th>\n",
       "      <td>6212</td>\n",
       "      <td>4772_0</td>\n",
       "      <td>1</td>\n",
       "      <td>0</td>\n",
       "      <td>4772_0</td>\n",
       "      <td>4772.0</td>\n",
       "      <td>0.0</td>\n",
       "      <td>0.0</td>\n",
       "      <td>204.0</td>\n",
       "      <td>27.0</td>\n",
       "      <td>0.116883</td>\n",
       "      <td>1.0</td>\n",
       "    </tr>\n",
       "    <tr>\n",
       "      <th>1</th>\n",
       "      <td>6212</td>\n",
       "      <td>4772_1</td>\n",
       "      <td>1</td>\n",
       "      <td>0</td>\n",
       "      <td>4772_1</td>\n",
       "      <td>4772.0</td>\n",
       "      <td>1.0</td>\n",
       "      <td>0.0</td>\n",
       "      <td>180.0</td>\n",
       "      <td>51.0</td>\n",
       "      <td>0.220779</td>\n",
       "      <td>1.0</td>\n",
       "    </tr>\n",
       "    <tr>\n",
       "      <th>2</th>\n",
       "      <td>6212</td>\n",
       "      <td>4772_2</td>\n",
       "      <td>1</td>\n",
       "      <td>0</td>\n",
       "      <td>4772_2</td>\n",
       "      <td>4772.0</td>\n",
       "      <td>2.0</td>\n",
       "      <td>0.0</td>\n",
       "      <td>103.0</td>\n",
       "      <td>128.0</td>\n",
       "      <td>0.554113</td>\n",
       "      <td>3.0</td>\n",
       "    </tr>\n",
       "    <tr>\n",
       "      <th>3</th>\n",
       "      <td>6212</td>\n",
       "      <td>4772_3</td>\n",
       "      <td>1</td>\n",
       "      <td>0</td>\n",
       "      <td>4772_3</td>\n",
       "      <td>4772.0</td>\n",
       "      <td>3.0</td>\n",
       "      <td>0.0</td>\n",
       "      <td>120.0</td>\n",
       "      <td>111.0</td>\n",
       "      <td>0.480519</td>\n",
       "      <td>2.0</td>\n",
       "    </tr>\n",
       "    <tr>\n",
       "      <th>4</th>\n",
       "      <td>6212</td>\n",
       "      <td>4772_4</td>\n",
       "      <td>1</td>\n",
       "      <td>0</td>\n",
       "      <td>4772_4</td>\n",
       "      <td>4772.0</td>\n",
       "      <td>4.0</td>\n",
       "      <td>0.0</td>\n",
       "      <td>203.0</td>\n",
       "      <td>28.0</td>\n",
       "      <td>0.121212</td>\n",
       "      <td>1.0</td>\n",
       "    </tr>\n",
       "  </tbody>\n",
       "</table>\n",
       "</div>"
      ],
      "text/plain": [
       "   player_id question_x  answered  not_answered      id  tournament  \\\n",
       "0       6212     4772_0         1             0  4772_0      4772.0   \n",
       "1       6212     4772_1         1             0  4772_1      4772.0   \n",
       "2       6212     4772_2         1             0  4772_2      4772.0   \n",
       "3       6212     4772_3         1             0  4772_3      4772.0   \n",
       "4       6212     4772_4         1             0  4772_4      4772.0   \n",
       "\n",
       "   question_y  canceled  positive  negative  difficulty  level  \n",
       "0         0.0       0.0     204.0      27.0    0.116883    1.0  \n",
       "1         1.0       0.0     180.0      51.0    0.220779    1.0  \n",
       "2         2.0       0.0     103.0     128.0    0.554113    3.0  \n",
       "3         3.0       0.0     120.0     111.0    0.480519    2.0  \n",
       "4         4.0       0.0     203.0      28.0    0.121212    1.0  "
      ]
     },
     "execution_count": 16,
     "metadata": {},
     "output_type": "execute_result"
    }
   ],
   "source": [
    "player_result = pd.merge(player_result, questions, how='left', left_on='question', right_on='id')\n",
    "player_result.head()"
   ]
  },
  {
   "cell_type": "code",
   "execution_count": 17,
   "metadata": {},
   "outputs": [
    {
     "data": {
      "text/html": [
       "<div>\n",
       "<style scoped>\n",
       "    .dataframe tbody tr th:only-of-type {\n",
       "        vertical-align: middle;\n",
       "    }\n",
       "\n",
       "    .dataframe tbody tr th {\n",
       "        vertical-align: top;\n",
       "    }\n",
       "\n",
       "    .dataframe thead tr th {\n",
       "        text-align: left;\n",
       "    }\n",
       "\n",
       "    .dataframe thead tr:last-of-type th {\n",
       "        text-align: right;\n",
       "    }\n",
       "</style>\n",
       "<table border=\"1\" class=\"dataframe\">\n",
       "  <thead>\n",
       "    <tr>\n",
       "      <th></th>\n",
       "      <th colspan=\"5\" halign=\"left\">n</th>\n",
       "      <th colspan=\"5\" halign=\"left\">p</th>\n",
       "    </tr>\n",
       "    <tr>\n",
       "      <th>level</th>\n",
       "      <th>1.0</th>\n",
       "      <th>2.0</th>\n",
       "      <th>3.0</th>\n",
       "      <th>4.0</th>\n",
       "      <th>5.0</th>\n",
       "      <th>1.0</th>\n",
       "      <th>2.0</th>\n",
       "      <th>3.0</th>\n",
       "      <th>4.0</th>\n",
       "      <th>5.0</th>\n",
       "    </tr>\n",
       "    <tr>\n",
       "      <th>player_id</th>\n",
       "      <th></th>\n",
       "      <th></th>\n",
       "      <th></th>\n",
       "      <th></th>\n",
       "      <th></th>\n",
       "      <th></th>\n",
       "      <th></th>\n",
       "      <th></th>\n",
       "      <th></th>\n",
       "      <th></th>\n",
       "    </tr>\n",
       "  </thead>\n",
       "  <tbody>\n",
       "    <tr>\n",
       "      <th>15</th>\n",
       "      <td>100.0</td>\n",
       "      <td>141.0</td>\n",
       "      <td>148.0</td>\n",
       "      <td>116.0</td>\n",
       "      <td>55.0</td>\n",
       "      <td>0.710000</td>\n",
       "      <td>0.468085</td>\n",
       "      <td>0.290541</td>\n",
       "      <td>0.163793</td>\n",
       "      <td>0.054545</td>\n",
       "    </tr>\n",
       "    <tr>\n",
       "      <th>16</th>\n",
       "      <td>44.0</td>\n",
       "      <td>50.0</td>\n",
       "      <td>74.0</td>\n",
       "      <td>37.0</td>\n",
       "      <td>29.0</td>\n",
       "      <td>0.954545</td>\n",
       "      <td>0.760000</td>\n",
       "      <td>0.567568</td>\n",
       "      <td>0.189189</td>\n",
       "      <td>0.000000</td>\n",
       "    </tr>\n",
       "    <tr>\n",
       "      <th>23</th>\n",
       "      <td>7.0</td>\n",
       "      <td>9.0</td>\n",
       "      <td>9.0</td>\n",
       "      <td>10.0</td>\n",
       "      <td>1.0</td>\n",
       "      <td>1.000000</td>\n",
       "      <td>0.666667</td>\n",
       "      <td>0.333333</td>\n",
       "      <td>0.200000</td>\n",
       "      <td>0.000000</td>\n",
       "    </tr>\n",
       "    <tr>\n",
       "      <th>31</th>\n",
       "      <td>150.0</td>\n",
       "      <td>185.0</td>\n",
       "      <td>216.0</td>\n",
       "      <td>185.0</td>\n",
       "      <td>129.0</td>\n",
       "      <td>0.860000</td>\n",
       "      <td>0.621622</td>\n",
       "      <td>0.402778</td>\n",
       "      <td>0.270270</td>\n",
       "      <td>0.038760</td>\n",
       "    </tr>\n",
       "    <tr>\n",
       "      <th>35</th>\n",
       "      <td>190.0</td>\n",
       "      <td>196.0</td>\n",
       "      <td>195.0</td>\n",
       "      <td>140.0</td>\n",
       "      <td>58.0</td>\n",
       "      <td>0.836842</td>\n",
       "      <td>0.658163</td>\n",
       "      <td>0.435897</td>\n",
       "      <td>0.242857</td>\n",
       "      <td>0.103448</td>\n",
       "    </tr>\n",
       "    <tr>\n",
       "      <th>...</th>\n",
       "      <td>...</td>\n",
       "      <td>...</td>\n",
       "      <td>...</td>\n",
       "      <td>...</td>\n",
       "      <td>...</td>\n",
       "      <td>...</td>\n",
       "      <td>...</td>\n",
       "      <td>...</td>\n",
       "      <td>...</td>\n",
       "      <td>...</td>\n",
       "    </tr>\n",
       "    <tr>\n",
       "      <th>224404</th>\n",
       "      <td>18.0</td>\n",
       "      <td>24.0</td>\n",
       "      <td>22.0</td>\n",
       "      <td>21.0</td>\n",
       "      <td>11.0</td>\n",
       "      <td>0.388889</td>\n",
       "      <td>0.416667</td>\n",
       "      <td>0.272727</td>\n",
       "      <td>0.238095</td>\n",
       "      <td>0.000000</td>\n",
       "    </tr>\n",
       "    <tr>\n",
       "      <th>224408</th>\n",
       "      <td>2.0</td>\n",
       "      <td>10.0</td>\n",
       "      <td>8.0</td>\n",
       "      <td>4.0</td>\n",
       "      <td>12.0</td>\n",
       "      <td>0.500000</td>\n",
       "      <td>0.300000</td>\n",
       "      <td>0.000000</td>\n",
       "      <td>0.000000</td>\n",
       "      <td>0.000000</td>\n",
       "    </tr>\n",
       "    <tr>\n",
       "      <th>224482</th>\n",
       "      <td>2.0</td>\n",
       "      <td>11.0</td>\n",
       "      <td>9.0</td>\n",
       "      <td>10.0</td>\n",
       "      <td>4.0</td>\n",
       "      <td>0.500000</td>\n",
       "      <td>0.181818</td>\n",
       "      <td>0.111111</td>\n",
       "      <td>0.000000</td>\n",
       "      <td>0.000000</td>\n",
       "    </tr>\n",
       "    <tr>\n",
       "      <th>224539</th>\n",
       "      <td>6.0</td>\n",
       "      <td>8.0</td>\n",
       "      <td>9.0</td>\n",
       "      <td>11.0</td>\n",
       "      <td>11.0</td>\n",
       "      <td>0.666667</td>\n",
       "      <td>0.500000</td>\n",
       "      <td>0.333333</td>\n",
       "      <td>0.090909</td>\n",
       "      <td>0.000000</td>\n",
       "    </tr>\n",
       "    <tr>\n",
       "      <th>224542</th>\n",
       "      <td>15.0</td>\n",
       "      <td>8.0</td>\n",
       "      <td>8.0</td>\n",
       "      <td>3.0</td>\n",
       "      <td>2.0</td>\n",
       "      <td>1.000000</td>\n",
       "      <td>0.875000</td>\n",
       "      <td>0.625000</td>\n",
       "      <td>0.000000</td>\n",
       "      <td>0.000000</td>\n",
       "    </tr>\n",
       "  </tbody>\n",
       "</table>\n",
       "<p>59271 rows × 10 columns</p>\n",
       "</div>"
      ],
      "text/plain": [
       "               n                                     p                      \\\n",
       "level        1.0    2.0    3.0    4.0    5.0       1.0       2.0       3.0   \n",
       "player_id                                                                    \n",
       "15         100.0  141.0  148.0  116.0   55.0  0.710000  0.468085  0.290541   \n",
       "16          44.0   50.0   74.0   37.0   29.0  0.954545  0.760000  0.567568   \n",
       "23           7.0    9.0    9.0   10.0    1.0  1.000000  0.666667  0.333333   \n",
       "31         150.0  185.0  216.0  185.0  129.0  0.860000  0.621622  0.402778   \n",
       "35         190.0  196.0  195.0  140.0   58.0  0.836842  0.658163  0.435897   \n",
       "...          ...    ...    ...    ...    ...       ...       ...       ...   \n",
       "224404      18.0   24.0   22.0   21.0   11.0  0.388889  0.416667  0.272727   \n",
       "224408       2.0   10.0    8.0    4.0   12.0  0.500000  0.300000  0.000000   \n",
       "224482       2.0   11.0    9.0   10.0    4.0  0.500000  0.181818  0.111111   \n",
       "224539       6.0    8.0    9.0   11.0   11.0  0.666667  0.500000  0.333333   \n",
       "224542      15.0    8.0    8.0    3.0    2.0  1.000000  0.875000  0.625000   \n",
       "\n",
       "                               \n",
       "level           4.0       5.0  \n",
       "player_id                      \n",
       "15         0.163793  0.054545  \n",
       "16         0.189189  0.000000  \n",
       "23         0.200000  0.000000  \n",
       "31         0.270270  0.038760  \n",
       "35         0.242857  0.103448  \n",
       "...             ...       ...  \n",
       "224404     0.238095  0.000000  \n",
       "224408     0.000000  0.000000  \n",
       "224482     0.000000  0.000000  \n",
       "224539     0.090909  0.000000  \n",
       "224542     0.000000  0.000000  \n",
       "\n",
       "[59271 rows x 10 columns]"
      ]
     },
     "execution_count": 17,
     "metadata": {},
     "output_type": "execute_result"
    }
   ],
   "source": [
    "player_result_grouped = player_result.groupby(['player_id', 'level']).agg({'answered': 'sum', 'not_answered': 'sum'})\n",
    "player_result_grouped['p'] = player_result_grouped['answered'] / (player_result_grouped['answered'] + player_result_grouped['not_answered'])\n",
    "player_result_grouped['n'] = player_result_grouped['answered'] + player_result_grouped['not_answered']\n",
    "player_result_grouped = player_result_grouped[['n', 'p']].unstack(-1)\n",
    "player_result_grouped"
   ]
  },
  {
   "cell_type": "code",
   "execution_count": 18,
   "metadata": {},
   "outputs": [],
   "source": [
    "# Заполнение пропусков в данных\n",
    "player_result_grouped['n'] = player_result_grouped['n'].fillna(0)\n",
    "player_result_grouped['p'] = player_result_grouped['p'].fillna(player_result_grouped['p'].median())"
   ]
  },
  {
   "cell_type": "code",
   "execution_count": 19,
   "metadata": {},
   "outputs": [
    {
     "name": "stdout",
     "output_type": "stream",
     "text": [
      "Median for difficulty 1: 0.7857142857142857\n",
      "Median for difficulty 2: 0.4876218776116631\n",
      "Median for difficulty 3: 0.2777777777777778\n",
      "Median for difficulty 4: 0.1276595744680851\n",
      "Median for difficulty 5: 0.0\n"
     ]
    }
   ],
   "source": [
    "median_p = {}\n",
    "for i in range(1, n_levels + 1):\n",
    "    median_p[i] = player_result_grouped.loc[:, ('p', i)].median()\n",
    "    print(f\"Median for difficulty {i}: {median_p[i]}\")"
   ]
  },
  {
   "cell_type": "code",
   "execution_count": 20,
   "metadata": {},
   "outputs": [],
   "source": [
    "dfclty = 1\n",
    "player_result_grouped.loc[(player_result_grouped[('p', dfclty)]==0.0) & (player_result_grouped[('n', dfclty)] < 5),\n",
    "                          ('p', dfclty)] = player_result_grouped.loc[:, ('p', dfclty)].median()"
   ]
  },
  {
   "cell_type": "code",
   "execution_count": 21,
   "metadata": {},
   "outputs": [],
   "source": [
    "for dfclty in range(2, n_levels):\n",
    "# Здесь будем менять на вероятность более нижней сложности\n",
    "    low_difficulty = player_result_grouped.loc[(player_result_grouped[('p', dfclty)]==0.0) & \\\n",
    "                                               (player_result_grouped[('n', dfclty)] < 5),\n",
    "                                               ('p', dfclty - 1)] < median_p[dfclty]\n",
    "    low_difficulty = low_difficulty[low_difficulty]\n",
    "    player_result_grouped.loc[low_difficulty.index,\n",
    "                              ('p', dfclty)] = player_result_grouped.loc[low_difficulty.index,\n",
    "                                                                             ('p', dfclty - 1)]\n",
    "# Здесь будем менять на среднюю\n",
    "    player_result_grouped.loc[(player_result_grouped[('p', dfclty)]==0.0) & \\\n",
    "                              (player_result_grouped[('n', dfclty)] < 5),\n",
    "                              ('p', dfclty)] = median_p[dfclty]"
   ]
  },
  {
   "cell_type": "code",
   "execution_count": 22,
   "metadata": {},
   "outputs": [
    {
     "name": "stdout",
     "output_type": "stream",
     "text": [
      "Min for difficulty 1: 0.043478260869565216\n",
      "Min for difficulty 2: 0.018518518518518517\n",
      "Min for difficulty 3: 0.011363636363636364\n",
      "Min for difficulty 4: 0.0058823529411764705\n",
      "Min for difficulty 5: 0.003389830508474576\n"
     ]
    }
   ],
   "source": [
    "min_p = {}\n",
    "for i in range(1, n_levels + 1):\n",
    "    min_p[i] = player_result_grouped.loc[player_result_grouped[('p', i)] > 0, ('p', i)].min()\n",
    "    print(f\"Min for difficulty {i}: {min_p[i]}\")"
   ]
  },
  {
   "cell_type": "code",
   "execution_count": 23,
   "metadata": {},
   "outputs": [],
   "source": [
    "for dfclty in range(1, n_levels):\n",
    "    player_result_grouped.loc[(player_result_grouped[('p', dfclty)]==0.0),\n",
    "                              ('p', dfclty)] = min_p[dfclty]"
   ]
  },
  {
   "cell_type": "code",
   "execution_count": 24,
   "metadata": {},
   "outputs": [
    {
     "data": {
      "text/html": [
       "<div>\n",
       "<style scoped>\n",
       "    .dataframe tbody tr th:only-of-type {\n",
       "        vertical-align: middle;\n",
       "    }\n",
       "\n",
       "    .dataframe tbody tr th {\n",
       "        vertical-align: top;\n",
       "    }\n",
       "\n",
       "    .dataframe thead tr th {\n",
       "        text-align: left;\n",
       "    }\n",
       "\n",
       "    .dataframe thead tr:last-of-type th {\n",
       "        text-align: right;\n",
       "    }\n",
       "</style>\n",
       "<table border=\"1\" class=\"dataframe\">\n",
       "  <thead>\n",
       "    <tr>\n",
       "      <th></th>\n",
       "      <th colspan=\"5\" halign=\"left\">n</th>\n",
       "      <th colspan=\"5\" halign=\"left\">p</th>\n",
       "      <th>total_questions</th>\n",
       "    </tr>\n",
       "    <tr>\n",
       "      <th>level</th>\n",
       "      <th>1.0</th>\n",
       "      <th>2.0</th>\n",
       "      <th>3.0</th>\n",
       "      <th>4.0</th>\n",
       "      <th>5.0</th>\n",
       "      <th>1.0</th>\n",
       "      <th>2.0</th>\n",
       "      <th>3.0</th>\n",
       "      <th>4.0</th>\n",
       "      <th>5.0</th>\n",
       "      <th></th>\n",
       "    </tr>\n",
       "    <tr>\n",
       "      <th>player_id</th>\n",
       "      <th></th>\n",
       "      <th></th>\n",
       "      <th></th>\n",
       "      <th></th>\n",
       "      <th></th>\n",
       "      <th></th>\n",
       "      <th></th>\n",
       "      <th></th>\n",
       "      <th></th>\n",
       "      <th></th>\n",
       "      <th></th>\n",
       "    </tr>\n",
       "  </thead>\n",
       "  <tbody>\n",
       "    <tr>\n",
       "      <th>15</th>\n",
       "      <td>100.0</td>\n",
       "      <td>141.0</td>\n",
       "      <td>148.0</td>\n",
       "      <td>116.0</td>\n",
       "      <td>55.0</td>\n",
       "      <td>0.710000</td>\n",
       "      <td>0.468085</td>\n",
       "      <td>0.290541</td>\n",
       "      <td>0.163793</td>\n",
       "      <td>0.054545</td>\n",
       "      <td>560.0</td>\n",
       "    </tr>\n",
       "    <tr>\n",
       "      <th>16</th>\n",
       "      <td>44.0</td>\n",
       "      <td>50.0</td>\n",
       "      <td>74.0</td>\n",
       "      <td>37.0</td>\n",
       "      <td>29.0</td>\n",
       "      <td>0.954545</td>\n",
       "      <td>0.760000</td>\n",
       "      <td>0.567568</td>\n",
       "      <td>0.189189</td>\n",
       "      <td>0.000000</td>\n",
       "      <td>234.0</td>\n",
       "    </tr>\n",
       "    <tr>\n",
       "      <th>23</th>\n",
       "      <td>7.0</td>\n",
       "      <td>9.0</td>\n",
       "      <td>9.0</td>\n",
       "      <td>10.0</td>\n",
       "      <td>1.0</td>\n",
       "      <td>1.000000</td>\n",
       "      <td>0.666667</td>\n",
       "      <td>0.333333</td>\n",
       "      <td>0.200000</td>\n",
       "      <td>0.000000</td>\n",
       "      <td>36.0</td>\n",
       "    </tr>\n",
       "    <tr>\n",
       "      <th>31</th>\n",
       "      <td>150.0</td>\n",
       "      <td>185.0</td>\n",
       "      <td>216.0</td>\n",
       "      <td>185.0</td>\n",
       "      <td>129.0</td>\n",
       "      <td>0.860000</td>\n",
       "      <td>0.621622</td>\n",
       "      <td>0.402778</td>\n",
       "      <td>0.270270</td>\n",
       "      <td>0.038760</td>\n",
       "      <td>865.0</td>\n",
       "    </tr>\n",
       "    <tr>\n",
       "      <th>35</th>\n",
       "      <td>190.0</td>\n",
       "      <td>196.0</td>\n",
       "      <td>195.0</td>\n",
       "      <td>140.0</td>\n",
       "      <td>58.0</td>\n",
       "      <td>0.836842</td>\n",
       "      <td>0.658163</td>\n",
       "      <td>0.435897</td>\n",
       "      <td>0.242857</td>\n",
       "      <td>0.103448</td>\n",
       "      <td>779.0</td>\n",
       "    </tr>\n",
       "    <tr>\n",
       "      <th>224404</th>\n",
       "      <td>18.0</td>\n",
       "      <td>24.0</td>\n",
       "      <td>22.0</td>\n",
       "      <td>21.0</td>\n",
       "      <td>11.0</td>\n",
       "      <td>0.388889</td>\n",
       "      <td>0.416667</td>\n",
       "      <td>0.272727</td>\n",
       "      <td>0.238095</td>\n",
       "      <td>0.000000</td>\n",
       "      <td>96.0</td>\n",
       "    </tr>\n",
       "    <tr>\n",
       "      <th>224408</th>\n",
       "      <td>2.0</td>\n",
       "      <td>10.0</td>\n",
       "      <td>8.0</td>\n",
       "      <td>4.0</td>\n",
       "      <td>12.0</td>\n",
       "      <td>0.500000</td>\n",
       "      <td>0.300000</td>\n",
       "      <td>0.011364</td>\n",
       "      <td>0.127660</td>\n",
       "      <td>0.000000</td>\n",
       "      <td>36.0</td>\n",
       "    </tr>\n",
       "    <tr>\n",
       "      <th>224482</th>\n",
       "      <td>2.0</td>\n",
       "      <td>11.0</td>\n",
       "      <td>9.0</td>\n",
       "      <td>10.0</td>\n",
       "      <td>4.0</td>\n",
       "      <td>0.500000</td>\n",
       "      <td>0.181818</td>\n",
       "      <td>0.111111</td>\n",
       "      <td>0.005882</td>\n",
       "      <td>0.000000</td>\n",
       "      <td>36.0</td>\n",
       "    </tr>\n",
       "    <tr>\n",
       "      <th>224539</th>\n",
       "      <td>6.0</td>\n",
       "      <td>8.0</td>\n",
       "      <td>9.0</td>\n",
       "      <td>11.0</td>\n",
       "      <td>11.0</td>\n",
       "      <td>0.666667</td>\n",
       "      <td>0.500000</td>\n",
       "      <td>0.333333</td>\n",
       "      <td>0.090909</td>\n",
       "      <td>0.000000</td>\n",
       "      <td>45.0</td>\n",
       "    </tr>\n",
       "    <tr>\n",
       "      <th>224542</th>\n",
       "      <td>15.0</td>\n",
       "      <td>8.0</td>\n",
       "      <td>8.0</td>\n",
       "      <td>3.0</td>\n",
       "      <td>2.0</td>\n",
       "      <td>1.000000</td>\n",
       "      <td>0.875000</td>\n",
       "      <td>0.625000</td>\n",
       "      <td>0.127660</td>\n",
       "      <td>0.000000</td>\n",
       "      <td>36.0</td>\n",
       "    </tr>\n",
       "  </tbody>\n",
       "</table>\n",
       "</div>"
      ],
      "text/plain": [
       "               n                                     p                      \\\n",
       "level        1.0    2.0    3.0    4.0    5.0       1.0       2.0       3.0   \n",
       "player_id                                                                    \n",
       "15         100.0  141.0  148.0  116.0   55.0  0.710000  0.468085  0.290541   \n",
       "16          44.0   50.0   74.0   37.0   29.0  0.954545  0.760000  0.567568   \n",
       "23           7.0    9.0    9.0   10.0    1.0  1.000000  0.666667  0.333333   \n",
       "31         150.0  185.0  216.0  185.0  129.0  0.860000  0.621622  0.402778   \n",
       "35         190.0  196.0  195.0  140.0   58.0  0.836842  0.658163  0.435897   \n",
       "224404      18.0   24.0   22.0   21.0   11.0  0.388889  0.416667  0.272727   \n",
       "224408       2.0   10.0    8.0    4.0   12.0  0.500000  0.300000  0.011364   \n",
       "224482       2.0   11.0    9.0   10.0    4.0  0.500000  0.181818  0.111111   \n",
       "224539       6.0    8.0    9.0   11.0   11.0  0.666667  0.500000  0.333333   \n",
       "224542      15.0    8.0    8.0    3.0    2.0  1.000000  0.875000  0.625000   \n",
       "\n",
       "                              total_questions  \n",
       "level           4.0       5.0                  \n",
       "player_id                                      \n",
       "15         0.163793  0.054545           560.0  \n",
       "16         0.189189  0.000000           234.0  \n",
       "23         0.200000  0.000000            36.0  \n",
       "31         0.270270  0.038760           865.0  \n",
       "35         0.242857  0.103448           779.0  \n",
       "224404     0.238095  0.000000            96.0  \n",
       "224408     0.127660  0.000000            36.0  \n",
       "224482     0.005882  0.000000            36.0  \n",
       "224539     0.090909  0.000000            45.0  \n",
       "224542     0.127660  0.000000            36.0  "
      ]
     },
     "execution_count": 24,
     "metadata": {},
     "output_type": "execute_result"
    }
   ],
   "source": [
    "player_result_grouped['total_questions'] = player_result_grouped['n'].sum(axis=1)\n",
    "player_result_grouped.head().append(player_result_grouped.tail())"
   ]
  },
  {
   "cell_type": "markdown",
   "metadata": {},
   "source": [
    "### Признаки для игроков мы сгенерировали, добавим к ним сложность вопросов и обучим логистическую регрессию"
   ]
  },
  {
   "cell_type": "code",
   "execution_count": 25,
   "metadata": {},
   "outputs": [],
   "source": [
    "dataset = player_result.drop(['id', 'tournament', 'question_x', 'not_answered',\n",
    "                              'question_y', 'canceled', 'positive', 'negative', 'level'], axis=1)\n"
   ]
  },
  {
   "cell_type": "code",
   "execution_count": 26,
   "metadata": {},
   "outputs": [
    {
     "data": {
      "text/html": [
       "<div>\n",
       "<style scoped>\n",
       "    .dataframe tbody tr th:only-of-type {\n",
       "        vertical-align: middle;\n",
       "    }\n",
       "\n",
       "    .dataframe tbody tr th {\n",
       "        vertical-align: top;\n",
       "    }\n",
       "\n",
       "    .dataframe thead th {\n",
       "        text-align: right;\n",
       "    }\n",
       "</style>\n",
       "<table border=\"1\" class=\"dataframe\">\n",
       "  <thead>\n",
       "    <tr style=\"text-align: right;\">\n",
       "      <th></th>\n",
       "      <th>answered</th>\n",
       "      <th>difficulty</th>\n",
       "    </tr>\n",
       "    <tr>\n",
       "      <th>player_id</th>\n",
       "      <th></th>\n",
       "      <th></th>\n",
       "    </tr>\n",
       "  </thead>\n",
       "  <tbody>\n",
       "    <tr>\n",
       "      <th>6212</th>\n",
       "      <td>1</td>\n",
       "      <td>0.116883</td>\n",
       "    </tr>\n",
       "    <tr>\n",
       "      <th>6212</th>\n",
       "      <td>1</td>\n",
       "      <td>0.220779</td>\n",
       "    </tr>\n",
       "    <tr>\n",
       "      <th>6212</th>\n",
       "      <td>1</td>\n",
       "      <td>0.554113</td>\n",
       "    </tr>\n",
       "    <tr>\n",
       "      <th>6212</th>\n",
       "      <td>1</td>\n",
       "      <td>0.480519</td>\n",
       "    </tr>\n",
       "    <tr>\n",
       "      <th>6212</th>\n",
       "      <td>1</td>\n",
       "      <td>0.121212</td>\n",
       "    </tr>\n",
       "  </tbody>\n",
       "</table>\n",
       "</div>"
      ],
      "text/plain": [
       "           answered  difficulty\n",
       "player_id                      \n",
       "6212              1    0.116883\n",
       "6212              1    0.220779\n",
       "6212              1    0.554113\n",
       "6212              1    0.480519\n",
       "6212              1    0.121212"
      ]
     },
     "execution_count": 26,
     "metadata": {},
     "output_type": "execute_result"
    }
   ],
   "source": [
    "dataset.index = dataset.player_id\n",
    "dataset.drop('player_id', axis=1, inplace = True)\n",
    "dataset.dropna(inplace=True)\n",
    "dataset.head()"
   ]
  },
  {
   "cell_type": "code",
   "execution_count": 27,
   "metadata": {},
   "outputs": [
    {
     "name": "stderr",
     "output_type": "stream",
     "text": [
      "/opt/anaconda3/lib/python3.7/site-packages/pandas/core/reshape/merge.py:618: UserWarning: merging between different levels can give an unintended result (1 levels on the left, 2 on the right)\n",
      "  warnings.warn(msg, UserWarning)\n"
     ]
    },
    {
     "data": {
      "text/html": [
       "<div>\n",
       "<style scoped>\n",
       "    .dataframe tbody tr th:only-of-type {\n",
       "        vertical-align: middle;\n",
       "    }\n",
       "\n",
       "    .dataframe tbody tr th {\n",
       "        vertical-align: top;\n",
       "    }\n",
       "\n",
       "    .dataframe thead th {\n",
       "        text-align: right;\n",
       "    }\n",
       "</style>\n",
       "<table border=\"1\" class=\"dataframe\">\n",
       "  <thead>\n",
       "    <tr style=\"text-align: right;\">\n",
       "      <th></th>\n",
       "      <th>answered</th>\n",
       "      <th>difficulty</th>\n",
       "      <th>(n, 1.0)</th>\n",
       "      <th>(n, 2.0)</th>\n",
       "      <th>(n, 3.0)</th>\n",
       "      <th>(n, 4.0)</th>\n",
       "      <th>(n, 5.0)</th>\n",
       "      <th>(p, 1.0)</th>\n",
       "      <th>(p, 2.0)</th>\n",
       "      <th>(p, 3.0)</th>\n",
       "      <th>(p, 4.0)</th>\n",
       "      <th>(p, 5.0)</th>\n",
       "    </tr>\n",
       "    <tr>\n",
       "      <th>player_id</th>\n",
       "      <th></th>\n",
       "      <th></th>\n",
       "      <th></th>\n",
       "      <th></th>\n",
       "      <th></th>\n",
       "      <th></th>\n",
       "      <th></th>\n",
       "      <th></th>\n",
       "      <th></th>\n",
       "      <th></th>\n",
       "      <th></th>\n",
       "      <th></th>\n",
       "    </tr>\n",
       "  </thead>\n",
       "  <tbody>\n",
       "    <tr>\n",
       "      <th>15</th>\n",
       "      <td>1</td>\n",
       "      <td>0.438169</td>\n",
       "      <td>100.0</td>\n",
       "      <td>141.0</td>\n",
       "      <td>148.0</td>\n",
       "      <td>116.0</td>\n",
       "      <td>55.0</td>\n",
       "      <td>0.71</td>\n",
       "      <td>0.468085</td>\n",
       "      <td>0.290541</td>\n",
       "      <td>0.163793</td>\n",
       "      <td>0.054545</td>\n",
       "    </tr>\n",
       "    <tr>\n",
       "      <th>15</th>\n",
       "      <td>1</td>\n",
       "      <td>0.196689</td>\n",
       "      <td>100.0</td>\n",
       "      <td>141.0</td>\n",
       "      <td>148.0</td>\n",
       "      <td>116.0</td>\n",
       "      <td>55.0</td>\n",
       "      <td>0.71</td>\n",
       "      <td>0.468085</td>\n",
       "      <td>0.290541</td>\n",
       "      <td>0.163793</td>\n",
       "      <td>0.054545</td>\n",
       "    </tr>\n",
       "    <tr>\n",
       "      <th>15</th>\n",
       "      <td>1</td>\n",
       "      <td>0.226874</td>\n",
       "      <td>100.0</td>\n",
       "      <td>141.0</td>\n",
       "      <td>148.0</td>\n",
       "      <td>116.0</td>\n",
       "      <td>55.0</td>\n",
       "      <td>0.71</td>\n",
       "      <td>0.468085</td>\n",
       "      <td>0.290541</td>\n",
       "      <td>0.163793</td>\n",
       "      <td>0.054545</td>\n",
       "    </tr>\n",
       "    <tr>\n",
       "      <th>15</th>\n",
       "      <td>0</td>\n",
       "      <td>0.460565</td>\n",
       "      <td>100.0</td>\n",
       "      <td>141.0</td>\n",
       "      <td>148.0</td>\n",
       "      <td>116.0</td>\n",
       "      <td>55.0</td>\n",
       "      <td>0.71</td>\n",
       "      <td>0.468085</td>\n",
       "      <td>0.290541</td>\n",
       "      <td>0.163793</td>\n",
       "      <td>0.054545</td>\n",
       "    </tr>\n",
       "    <tr>\n",
       "      <th>15</th>\n",
       "      <td>0</td>\n",
       "      <td>0.703019</td>\n",
       "      <td>100.0</td>\n",
       "      <td>141.0</td>\n",
       "      <td>148.0</td>\n",
       "      <td>116.0</td>\n",
       "      <td>55.0</td>\n",
       "      <td>0.71</td>\n",
       "      <td>0.468085</td>\n",
       "      <td>0.290541</td>\n",
       "      <td>0.163793</td>\n",
       "      <td>0.054545</td>\n",
       "    </tr>\n",
       "  </tbody>\n",
       "</table>\n",
       "</div>"
      ],
      "text/plain": [
       "           answered  difficulty  (n, 1.0)  (n, 2.0)  (n, 3.0)  (n, 4.0)  \\\n",
       "player_id                                                                 \n",
       "15                1    0.438169     100.0     141.0     148.0     116.0   \n",
       "15                1    0.196689     100.0     141.0     148.0     116.0   \n",
       "15                1    0.226874     100.0     141.0     148.0     116.0   \n",
       "15                0    0.460565     100.0     141.0     148.0     116.0   \n",
       "15                0    0.703019     100.0     141.0     148.0     116.0   \n",
       "\n",
       "           (n, 5.0)  (p, 1.0)  (p, 2.0)  (p, 3.0)  (p, 4.0)  (p, 5.0)  \n",
       "player_id                                                              \n",
       "15             55.0      0.71  0.468085  0.290541  0.163793  0.054545  \n",
       "15             55.0      0.71  0.468085  0.290541  0.163793  0.054545  \n",
       "15             55.0      0.71  0.468085  0.290541  0.163793  0.054545  \n",
       "15             55.0      0.71  0.468085  0.290541  0.163793  0.054545  \n",
       "15             55.0      0.71  0.468085  0.290541  0.163793  0.054545  "
      ]
     },
     "execution_count": 27,
     "metadata": {},
     "output_type": "execute_result"
    }
   ],
   "source": [
    "dataset = dataset.merge(player_result_grouped.drop('total_questions', axis=1), how='left', left_index=True, right_index=True)\n",
    "dataset.head()"
   ]
  },
  {
   "cell_type": "code",
   "execution_count": 28,
   "metadata": {},
   "outputs": [],
   "source": [
    "# Нормировка признаков\n",
    "min_qty = []\n",
    "max_qty = []\n",
    "for i in range(1, n_levels + 1):\n",
    "    min_qty.append(dataset[('n', i)].min())\n",
    "    max_qty.append(dataset[('n', i)].max())\n",
    "    dataset[('n', i)] = (dataset[('n', i)] - min_qty[-1]) / (max_qty[-1] - min_qty[-1])"
   ]
  },
  {
   "cell_type": "code",
   "execution_count": 29,
   "metadata": {},
   "outputs": [
    {
     "name": "stdout",
     "output_type": "stream",
     "text": [
      "(5000000, 11)\n"
     ]
    }
   ],
   "source": [
    "dataset_sample = dataset.sample(5000000)\n",
    "X = dataset_sample.drop('answered', axis=1).values\n",
    "y = dataset_sample['answered'].values\n",
    "print(X.shape)"
   ]
  },
  {
   "cell_type": "code",
   "execution_count": 30,
   "metadata": {},
   "outputs": [
    {
     "name": "stderr",
     "output_type": "stream",
     "text": [
      "[Parallel(n_jobs=1)]: Using backend SequentialBackend with 1 concurrent workers.\n"
     ]
    },
    {
     "name": "stdout",
     "output_type": "stream",
     "text": [
      "Accuracy: 0.7587848\n"
     ]
    },
    {
     "name": "stderr",
     "output_type": "stream",
     "text": [
      "[Parallel(n_jobs=1)]: Done   1 out of   1 | elapsed:   22.6s finished\n"
     ]
    }
   ],
   "source": [
    "model = LogisticRegression(verbose=1)\n",
    "model.fit(X, y)\n",
    "pred = model.predict(X)\n",
    "print(f'Accuracy: {np.sum(pred == y)/len(pred)}')"
   ]
  },
  {
   "cell_type": "markdown",
   "metadata": {},
   "source": [
    "### Для каждого игрока теперь просэмплируем по 20000 вопросов разной сложности и посчитаем для каждого игрока на сколько из них он бы ответил - далее построим рейтинг"
   ]
  },
  {
   "cell_type": "code",
   "execution_count": 31,
   "metadata": {},
   "outputs": [
    {
     "data": {
      "text/plain": [
       "player_id\n",
       "15    560.0\n",
       "16    234.0\n",
       "23     36.0\n",
       "31    865.0\n",
       "35    779.0\n",
       "Name: total_questions, dtype: float64"
      ]
     },
     "execution_count": 31,
     "metadata": {},
     "output_type": "execute_result"
    }
   ],
   "source": [
    "players_total_questions = player_result_grouped.total_questions.copy()\n",
    "player_result_grouped.drop('total_questions', axis=1, inplace=True)\n",
    "players_total_questions.head()"
   ]
  },
  {
   "cell_type": "code",
   "execution_count": 32,
   "metadata": {},
   "outputs": [],
   "source": [
    "# Из этого распределения будем сэмплировать вопросы:\n",
    "p_questions = questions.difficulty\n",
    "\n",
    "sample_size = 20000\n",
    "q_sample = np.array(p_questions.sample(sample_size)).reshape(-1, 1)"
   ]
  },
  {
   "cell_type": "code",
   "execution_count": 33,
   "metadata": {},
   "outputs": [],
   "source": [
    "# Проведем нормировку для количества вопросов\n",
    "for i in range(1, n_levels + 1):\n",
    "    player_result_grouped[('n', i)] = (player_result_grouped[('n', i)] - min_qty[-1]) / (max_qty[-1] - min_qty[-1])"
   ]
  },
  {
   "cell_type": "code",
   "execution_count": 34,
   "metadata": {},
   "outputs": [
    {
     "name": "stderr",
     "output_type": "stream",
     "text": [
      "100%|██████████| 59271/59271 [00:48<00:00, 1220.61it/s]\n"
     ]
    }
   ],
   "source": [
    "players_rating = []\n",
    "for idx in tqdm.tqdm(player_result_grouped.index):\n",
    "    player_sample = np.array(player_result_grouped.loc[idx]).reshape(1, -1)\n",
    "    X = np.hstack([q_sample, np.tile(player_sample, (sample_size, 1))])\n",
    "    rating = model.predict(X).sum()\n",
    "    players_rating.append({'id': idx, 'rating': rating})"
   ]
  },
  {
   "cell_type": "code",
   "execution_count": 35,
   "metadata": {},
   "outputs": [],
   "source": [
    "players_rating = pd.DataFrame(players_rating).sort_values('rating', ascending=False)"
   ]
  },
  {
   "cell_type": "code",
   "execution_count": 36,
   "metadata": {},
   "outputs": [
    {
     "data": {
      "image/png": "[encoded data removed]",
      "text/plain": [
       "<Figure size 432x288 with 1 Axes>"
      ]
     },
     "metadata": {
      "needs_background": "light"
     },
     "output_type": "display_data"
    }
   ],
   "source": [
    "players_rating.rating.hist(bins=30)\n",
    "plt.title('Распределение рейтинга')\n",
    "plt.show()"
   ]
  },
  {
   "cell_type": "code",
   "execution_count": 37,
   "metadata": {},
   "outputs": [],
   "source": [
    "players_names = pd.DataFrame([v for k, v in players_data.items()])\n",
    "players_names.index = players_names.id\n",
    "players_names.drop('id', axis=1, inplace=True)\n",
    "\n",
    "players_rating.index = players_rating.id\n",
    "players_rating.drop('id', axis=1, inplace=True)\n",
    "\n",
    "players_rating = pd.merge(players_rating, players_names, how='left', left_index=True, right_index=True)\n",
    "players_rating = pd.merge(players_rating, players_total_questions, how='left', left_index=True, right_index=True)"
   ]
  },
  {
   "cell_type": "code",
   "execution_count": 38,
   "metadata": {},
   "outputs": [
    {
     "data": {
      "text/html": [
       "<div>\n",
       "<style scoped>\n",
       "    .dataframe tbody tr th:only-of-type {\n",
       "        vertical-align: middle;\n",
       "    }\n",
       "\n",
       "    .dataframe tbody tr th {\n",
       "        vertical-align: top;\n",
       "    }\n",
       "\n",
       "    .dataframe thead th {\n",
       "        text-align: right;\n",
       "    }\n",
       "</style>\n",
       "<table border=\"1\" class=\"dataframe\">\n",
       "  <thead>\n",
       "    <tr style=\"text-align: right;\">\n",
       "      <th></th>\n",
       "      <th>rating</th>\n",
       "      <th>name</th>\n",
       "      <th>patronymic</th>\n",
       "      <th>surname</th>\n",
       "      <th>total_questions</th>\n",
       "    </tr>\n",
       "    <tr>\n",
       "      <th>id</th>\n",
       "      <th></th>\n",
       "      <th></th>\n",
       "      <th></th>\n",
       "      <th></th>\n",
       "      <th></th>\n",
       "    </tr>\n",
       "  </thead>\n",
       "  <tbody>\n",
       "    <tr>\n",
       "      <th>27403</th>\n",
       "      <td>17095</td>\n",
       "      <td>Максим</td>\n",
       "      <td>Михайлович</td>\n",
       "      <td>Руссо</td>\n",
       "      <td>2331.0</td>\n",
       "    </tr>\n",
       "    <tr>\n",
       "      <th>28751</th>\n",
       "      <td>17028</td>\n",
       "      <td>Иван</td>\n",
       "      <td>Николаевич</td>\n",
       "      <td>Семушин</td>\n",
       "      <td>3963.0</td>\n",
       "    </tr>\n",
       "    <tr>\n",
       "      <th>4270</th>\n",
       "      <td>17024</td>\n",
       "      <td>Александра</td>\n",
       "      <td>Владимировна</td>\n",
       "      <td>Брутер</td>\n",
       "      <td>2881.0</td>\n",
       "    </tr>\n",
       "    <tr>\n",
       "      <th>27822</th>\n",
       "      <td>16619</td>\n",
       "      <td>Михаил</td>\n",
       "      <td>Владимирович</td>\n",
       "      <td>Савченков</td>\n",
       "      <td>3449.0</td>\n",
       "    </tr>\n",
       "    <tr>\n",
       "      <th>30152</th>\n",
       "      <td>16458</td>\n",
       "      <td>Артём</td>\n",
       "      <td>Сергеевич</td>\n",
       "      <td>Сорожкин</td>\n",
       "      <td>5083.0</td>\n",
       "    </tr>\n",
       "    <tr>\n",
       "      <th>30270</th>\n",
       "      <td>16373</td>\n",
       "      <td>Сергей</td>\n",
       "      <td>Леонидович</td>\n",
       "      <td>Спешков</td>\n",
       "      <td>3962.0</td>\n",
       "    </tr>\n",
       "    <tr>\n",
       "      <th>87637</th>\n",
       "      <td>15902</td>\n",
       "      <td>Антон</td>\n",
       "      <td>Владимирович</td>\n",
       "      <td>Саксонов</td>\n",
       "      <td>1266.0</td>\n",
       "    </tr>\n",
       "    <tr>\n",
       "      <th>56647</th>\n",
       "      <td>15505</td>\n",
       "      <td>Наталья</td>\n",
       "      <td>Евгеньевна</td>\n",
       "      <td>Горелова</td>\n",
       "      <td>2165.0</td>\n",
       "    </tr>\n",
       "    <tr>\n",
       "      <th>20691</th>\n",
       "      <td>15498</td>\n",
       "      <td>Станислав</td>\n",
       "      <td>Григорьевич</td>\n",
       "      <td>Мереминский</td>\n",
       "      <td>1656.0</td>\n",
       "    </tr>\n",
       "    <tr>\n",
       "      <th>7008</th>\n",
       "      <td>15460</td>\n",
       "      <td>Алексей</td>\n",
       "      <td>Владимирович</td>\n",
       "      <td>Гилёв</td>\n",
       "      <td>4495.0</td>\n",
       "    </tr>\n",
       "    <tr>\n",
       "      <th>18332</th>\n",
       "      <td>15134</td>\n",
       "      <td>Александр</td>\n",
       "      <td>Витальевич</td>\n",
       "      <td>Либер</td>\n",
       "      <td>3906.0</td>\n",
       "    </tr>\n",
       "    <tr>\n",
       "      <th>26089</th>\n",
       "      <td>15072</td>\n",
       "      <td>Ирина</td>\n",
       "      <td>Сергеевна</td>\n",
       "      <td>Прокофьева</td>\n",
       "      <td>1112.0</td>\n",
       "    </tr>\n",
       "    <tr>\n",
       "      <th>18036</th>\n",
       "      <td>14999</td>\n",
       "      <td>Михаил</td>\n",
       "      <td>Ильич</td>\n",
       "      <td>Левандовский</td>\n",
       "      <td>1502.0</td>\n",
       "    </tr>\n",
       "    <tr>\n",
       "      <th>19915</th>\n",
       "      <td>14996</td>\n",
       "      <td>Александр</td>\n",
       "      <td>Валерьевич</td>\n",
       "      <td>Марков</td>\n",
       "      <td>3092.0</td>\n",
       "    </tr>\n",
       "    <tr>\n",
       "      <th>74382</th>\n",
       "      <td>14883</td>\n",
       "      <td>Михаил</td>\n",
       "      <td>Андреевич</td>\n",
       "      <td>Новосёлов</td>\n",
       "      <td>3148.0</td>\n",
       "    </tr>\n",
       "    <tr>\n",
       "      <th>15595</th>\n",
       "      <td>14871</td>\n",
       "      <td>Кристина</td>\n",
       "      <td>Олеговна</td>\n",
       "      <td>Кораблина</td>\n",
       "      <td>2905.0</td>\n",
       "    </tr>\n",
       "    <tr>\n",
       "      <th>14786</th>\n",
       "      <td>14864</td>\n",
       "      <td>Николай</td>\n",
       "      <td>Александрович</td>\n",
       "      <td>Коврижных</td>\n",
       "      <td>3173.0</td>\n",
       "    </tr>\n",
       "    <tr>\n",
       "      <th>16837</th>\n",
       "      <td>14786</td>\n",
       "      <td>Наталья</td>\n",
       "      <td>Алексеевна</td>\n",
       "      <td>Кудряшова</td>\n",
       "      <td>2699.0</td>\n",
       "    </tr>\n",
       "    <tr>\n",
       "      <th>23737</th>\n",
       "      <td>14725</td>\n",
       "      <td>Андрей</td>\n",
       "      <td>Вячеславович</td>\n",
       "      <td>Островский</td>\n",
       "      <td>2729.0</td>\n",
       "    </tr>\n",
       "    <tr>\n",
       "      <th>6212</th>\n",
       "      <td>14673</td>\n",
       "      <td>Юрий</td>\n",
       "      <td>Яковлевич</td>\n",
       "      <td>Выменец</td>\n",
       "      <td>3389.0</td>\n",
       "    </tr>\n",
       "    <tr>\n",
       "      <th>21698</th>\n",
       "      <td>14673</td>\n",
       "      <td>Александр</td>\n",
       "      <td>Владимирович</td>\n",
       "      <td>Мосягин</td>\n",
       "      <td>1157.0</td>\n",
       "    </tr>\n",
       "    <tr>\n",
       "      <th>74001</th>\n",
       "      <td>14666</td>\n",
       "      <td>Игорь</td>\n",
       "      <td>Викторович</td>\n",
       "      <td>Мокин</td>\n",
       "      <td>1293.0</td>\n",
       "    </tr>\n",
       "    <tr>\n",
       "      <th>22799</th>\n",
       "      <td>14631</td>\n",
       "      <td>Сергей</td>\n",
       "      <td>Игоревич</td>\n",
       "      <td>Николенко</td>\n",
       "      <td>2266.0</td>\n",
       "    </tr>\n",
       "    <tr>\n",
       "      <th>32458</th>\n",
       "      <td>14627</td>\n",
       "      <td>Игорь</td>\n",
       "      <td>Вячеславович</td>\n",
       "      <td>Тюнькин</td>\n",
       "      <td>3875.0</td>\n",
       "    </tr>\n",
       "    <tr>\n",
       "      <th>23178</th>\n",
       "      <td>14586</td>\n",
       "      <td>Елизавета</td>\n",
       "      <td>Сергеевна</td>\n",
       "      <td>Овдеенко</td>\n",
       "      <td>2481.0</td>\n",
       "    </tr>\n",
       "    <tr>\n",
       "      <th>22935</th>\n",
       "      <td>14572</td>\n",
       "      <td>Илья</td>\n",
       "      <td>Сергеевич</td>\n",
       "      <td>Новиков</td>\n",
       "      <td>1634.0</td>\n",
       "    </tr>\n",
       "    <tr>\n",
       "      <th>70750</th>\n",
       "      <td>14568</td>\n",
       "      <td>Денис</td>\n",
       "      <td>Андреевич</td>\n",
       "      <td>Галиакберов</td>\n",
       "      <td>2609.0</td>\n",
       "    </tr>\n",
       "    <tr>\n",
       "      <th>96330</th>\n",
       "      <td>14566</td>\n",
       "      <td>Наталья</td>\n",
       "      <td>Александровна</td>\n",
       "      <td>Комар</td>\n",
       "      <td>4507.0</td>\n",
       "    </tr>\n",
       "    <tr>\n",
       "      <th>1585</th>\n",
       "      <td>14501</td>\n",
       "      <td>Юлия</td>\n",
       "      <td>Сергеевна</td>\n",
       "      <td>Архангельская</td>\n",
       "      <td>1695.0</td>\n",
       "    </tr>\n",
       "    <tr>\n",
       "      <th>34846</th>\n",
       "      <td>14501</td>\n",
       "      <td>Антон</td>\n",
       "      <td>Анатольевич</td>\n",
       "      <td>Чернин</td>\n",
       "      <td>1613.0</td>\n",
       "    </tr>\n",
       "  </tbody>\n",
       "</table>\n",
       "</div>"
      ],
      "text/plain": [
       "       rating        name     patronymic        surname  total_questions\n",
       "id                                                                      \n",
       "27403   17095      Максим     Михайлович          Руссо           2331.0\n",
       "28751   17028        Иван     Николаевич        Семушин           3963.0\n",
       "4270    17024  Александра   Владимировна         Брутер           2881.0\n",
       "27822   16619      Михаил   Владимирович      Савченков           3449.0\n",
       "30152   16458       Артём      Сергеевич       Сорожкин           5083.0\n",
       "30270   16373      Сергей     Леонидович        Спешков           3962.0\n",
       "87637   15902       Антон   Владимирович       Саксонов           1266.0\n",
       "56647   15505     Наталья     Евгеньевна       Горелова           2165.0\n",
       "20691   15498   Станислав    Григорьевич    Мереминский           1656.0\n",
       "7008    15460     Алексей   Владимирович          Гилёв           4495.0\n",
       "18332   15134   Александр     Витальевич          Либер           3906.0\n",
       "26089   15072       Ирина      Сергеевна     Прокофьева           1112.0\n",
       "18036   14999      Михаил          Ильич   Левандовский           1502.0\n",
       "19915   14996   Александр     Валерьевич         Марков           3092.0\n",
       "74382   14883      Михаил      Андреевич      Новосёлов           3148.0\n",
       "15595   14871    Кристина       Олеговна      Кораблина           2905.0\n",
       "14786   14864     Николай  Александрович      Коврижных           3173.0\n",
       "16837   14786     Наталья     Алексеевна      Кудряшова           2699.0\n",
       "23737   14725      Андрей   Вячеславович     Островский           2729.0\n",
       "6212    14673        Юрий      Яковлевич        Выменец           3389.0\n",
       "21698   14673   Александр   Владимирович        Мосягин           1157.0\n",
       "74001   14666       Игорь     Викторович          Мокин           1293.0\n",
       "22799   14631      Сергей       Игоревич      Николенко           2266.0\n",
       "32458   14627       Игорь   Вячеславович        Тюнькин           3875.0\n",
       "23178   14586   Елизавета      Сергеевна       Овдеенко           2481.0\n",
       "22935   14572        Илья      Сергеевич        Новиков           1634.0\n",
       "70750   14568       Денис      Андреевич    Галиакберов           2609.0\n",
       "96330   14566     Наталья  Александровна          Комар           4507.0\n",
       "1585    14501        Юлия      Сергеевна  Архангельская           1695.0\n",
       "34846   14501       Антон    Анатольевич         Чернин           1613.0"
      ]
     },
     "execution_count": 38,
     "metadata": {},
     "output_type": "execute_result"
    }
   ],
   "source": [
    "linear_rating = players_rating[players_rating.total_questions > 1000]\n",
    "linear_rating.head(30)"
   ]
  },
  {
   "cell_type": "markdown",
   "metadata": {},
   "source": [
    "Почти все эти игроки находятся высоко в рейтинге на сайте https://rating.chgk.info"
   ]
  },
  {
   "cell_type": "markdown",
   "metadata": {},
   "source": [
    "# 3. Качество рейтинг-системы оценивается качеством предсказаний результатов турниров."
   ]
  },
  {
   "cell_type": "code",
   "execution_count": 39,
   "metadata": {},
   "outputs": [],
   "source": [
    "class Tournament:\n",
    "    def __init__(self, \n",
    "                 idx, \n",
    "                 results=results_data,\n",
    "                 tournaments=test_tournaments,\n",
    "                 model=model, p_questions=p_questions, \n",
    "                 players_features=player_result_grouped):\n",
    "        self.idx = idx\n",
    "        self.results = results[idx]\n",
    "        self.model = model\n",
    "        self.players_features = players_features\n",
    "        \n",
    "        self.total_questions = tournaments.loc[idx, 'total_questions']\n",
    "        self.teams = self._load_teams()\n",
    "        self.questions = np.array(p_questions.sample(self.total_questions)).reshape(-1, 1)\n",
    "        \n",
    "    def _load_teams(self):\n",
    "        teams = []\n",
    "        for team in self.results:\n",
    "            if 'position' not in team or team['mask'] is None:\n",
    "                continue\n",
    "            current_team = {}\n",
    "            current_team['name'] = team['team']['name']\n",
    "            current_team['position'] = team['position']\n",
    "            current_team['members'] = self._load_team_members(team)\n",
    "            teams.append(current_team)\n",
    "        return teams\n",
    "        \n",
    "    def _load_team_members(self, team):\n",
    "        players = {}\n",
    "        for player in team['teamMembers']:\n",
    "            player_id = player['player']['id']\n",
    "            if player_id not in player_result_grouped.index:\n",
    "                continue\n",
    "            player_features = np.array(player_result_grouped.loc[player_id]).reshape(1, -1)\n",
    "            players[player_id] = player_features\n",
    "        return players\n",
    "        \n",
    "    def simulate(self):\n",
    "        if len(self.teams) == 0:\n",
    "            return None, None\n",
    "        predicted_results = []\n",
    "        factual_results = []\n",
    "        for team in self.teams:\n",
    "            prediction = self._simulate_team_result(team)\n",
    "            if prediction == 0:\n",
    "                continue\n",
    "            factual_results.append(team['position'])\n",
    "            predicted_results.append(prediction)\n",
    "        return predicted_results, factual_results\n",
    "    \n",
    "    def _simulate_team_result(self, team):\n",
    "        team_size = len(team['members'])\n",
    "        if team_size == 0:\n",
    "            return 0\n",
    "        team_features = np.vstack([v for k, v in team['members'].items()])\n",
    "        result = 0\n",
    "        for q in self.questions:\n",
    "            full = np.hstack([np.tile(q, (team_size, 1)), team_features])\n",
    "            probs = model.predict_proba(full)[:,1]\n",
    "            result += np.mean(probs)\n",
    "        return -result\n",
    "    \n",
    "example_tournament = Tournament(5477)\n",
    "prediction, ground_true = example_tournament.simulate()"
   ]
  },
  {
   "cell_type": "code",
   "execution_count": 40,
   "metadata": {},
   "outputs": [
    {
     "name": "stderr",
     "output_type": "stream",
     "text": [
      "100%|██████████| 416/416 [01:27<00:00,  4.73it/s]\n"
     ]
    }
   ],
   "source": [
    "spearman_correlations = []\n",
    "kendall_correlations = []\n",
    "for idx in tqdm.tqdm(test_tournaments.index):\n",
    "    if results_data[idx]:\n",
    "        tournament = Tournament(idx)\n",
    "        prediction, ground_true = tournament.simulate()\n",
    "        if prediction is None or ground_true is None:\n",
    "            continue\n",
    "        spearman_corr = spearmanr(prediction, ground_true)[0]\n",
    "        spearman_correlations.append(spearman_corr)\n",
    "        kendall_corr = kendalltau(prediction, ground_true)[0]\n",
    "        kendall_correlations.append(kendall_corr)"
   ]
  },
  {
   "cell_type": "code",
   "execution_count": 41,
   "metadata": {},
   "outputs": [
    {
     "name": "stdout",
     "output_type": "stream",
     "text": [
      "Корреляция Спирмена: 0.71\n",
      "Корреляция Кендалла: 0.55\n"
     ]
    }
   ],
   "source": [
    "print(f'Корреляция Спирмена: {np.mean([t for t in spearman_correlations if np.isfinite(t)]):0.2f}')\n",
    "print(f'Корреляция Кендалла: {np.mean([t for t in kendall_correlations if np.isfinite(t)]):0.2f}')"
   ]
  },
  {
   "cell_type": "markdown",
   "metadata": {},
   "source": [
    "Значения попали в ожидаемые интервалы"
   ]
  },
  {
   "cell_type": "markdown",
   "metadata": {},
   "source": [
    "# 4. Теперь главное: ЧГК — это всё-таки командная игра. EM-схема"
   ]
  },
  {
   "cell_type": "code",
   "execution_count": 42,
   "metadata": {},
   "outputs": [
    {
     "name": "stdout",
     "output_type": "stream",
     "text": [
      "В train всего 59394 игроков\n",
      "В train всего 34161 вопросов\n"
     ]
    }
   ],
   "source": [
    "total_players, total_questions = get_players_and_questions_qty(results_data, train_tournaments)\n",
    "print(f'В train всего {total_players} игроков')\n",
    "print(f'В train всего {total_questions} вопросов')"
   ]
  },
  {
   "cell_type": "markdown",
   "metadata": {},
   "source": [
    "Модель для ответов на вопрос каждого игрока\n",
    "\n",
    "* Ранее мы генерировали для каждого игрока несколько признаков, исходя из его ответов на вопросы разной сложности. Теперь мы  оставим ровно 1 признак для каждого игрока - это и будет его скилл - $p_{i}$. Каждый вопрос будет характеризоваться сложностью $q_{j}$.\n",
    "\n",
    "* Ответил игрок i на вопрос j - это задача бинарной классификации, т.е. будем использовать как и в бейзлайне логистическую регрессию, но теперь без дополнительных признаков - на вход подаем 2 объединенных OHE вектора - номер игрока и номер вопроса (59394 + 34161), на выходе 1 или 0. "
   ]
  },
  {
   "cell_type": "markdown",
   "metadata": {},
   "source": [
    "Применение EM алгоритма\n",
    "\n",
    "* Мы не можем зафиксировать команды, т.к. игрок может переходить в разные команды от турнира к турниру, поэтому далее объект \"команда\" - это вектор из 0 и 1 размера 59394, в котором 1 означает, что игрок входит в команду, а 0 - не входит.\n",
    "\n",
    "* Мы наблюдаем ответ команды в целом на вопрос, пусть $x_{ti} = 1$ означает что команда $t$ ответила на вопрос $q$, и $x_{ti} = 0$ означает что команда $t$ не ответила на вопрос $i$\n",
    "\n",
    "* Мы моделируем ответ игрока $i$ на вопрос $j$ как $\\sigma(p_{i} + q_{j} + const)$\n",
    "\n",
    "* Обозначим скрытые переменные $z_{ij}$ - ответ игрока $i$ на вопрос $j$ - мы не знаем как отвечал конкретный игрок внутри команды, но можем попробовать связать их $z_{ij}$ с $x_{tj}$ - ответом команды на копрос $j$:\n",
    "\n",
    "1. Если команда $t$ не ответила на вопрос $i$, то считаем, что ни один из игроков не ответил на вопрос (случай, когда кто-то знал правильный ответ, но команда выбрала другой ответ - не рассматриваем), т.е. $z_{ij} = 0 \\forall j \\in t$\n",
    "2. Если команда $t$ ответила на вопрос $i$, то считаем, что как существует как минимум 1 игрок из этой команды, который знал правильный ответ: $\\exists j \\in t: z_{ij} = 1$"
   ]
  },
  {
   "cell_type": "markdown",
   "metadata": {},
   "source": [
    "EM-схема будет выглядеть следующим образом:\n",
    "\n",
    "* Обучим логистические регрессии $x_{tj} \\sim \\sigma(p_{i} + q_{j} + const) \\forall i \\in t$ и найдем начальные значения $p_{i}$ и $q_{j}$\n",
    "\n",
    "* __E-шаг__ - найдем мат. ожидания $z_{i}{j}$: $\\mathbf{E}z_{ij} = \n",
    "\\begin{cases}\n",
    "0, \\forall i \\in t, \\text{если команда t не ответила на вопрос j}\\\\\n",
    "\\frac{\\sigma(p_{i} + q_{j} + const)}{1 - \\prod_{k \\in t}(1 - \\sigma(p_{k} + q_{j} + const))}, \\text{если команда t ответила на вопрос j - далее покажу как пришел к этому}\\\\\n",
    "\\end{cases}$\n",
    "\n",
    "* __M-шаг__ - с новыми $\\mathbf{E}z_{ij}$ обновляем $p_{i}$ и $q_{j}$, то есть находим оптимальные значения для задачи: $\\mathbf{E}z_{ij} \\sim \\sigma(p_{i} + q_{j} + const)$"
   ]
  },
  {
   "cell_type": "markdown",
   "metadata": {},
   "source": [
    "### Вывод E-шага\n",
    "\n",
    "Если команда ответила на вопрос правильно, то хотя бы один игрок смог ответить правильно. Пусть у нас в команде $m$ игроков и событие, что они дали правильный ответ на текущий вопрос с текущими $p_{i}$ и $q_{j}$ - $A_{i} \\forall i \\leqslant m$\n",
    "\n",
    "$p(A_{i}) = \\sigma(p_{i} + q_{j} + const) \\forall i \\leqslant m$\n",
    "\n",
    "Событие $B$ - это команда ответила правильно, вероятность этого события $P(B) = 1 - \\prod_{i \\leqslant m}(1 - p(A_i))$ - то есть вероятность того, что хотя бы один из игроков дал правильный ответ.\n",
    "\n",
    "В E-шаге нам нужно вычислить $\\mathbf{E}(z_{ij})$ то есть мат ожидание вероятности того, что игрок ответил правильно, при условии, что команда ответила правильно, то есть: $P(z_{ij}|x_{tj})$\n",
    "\n",
    "Применим теорему Байеса:\n",
    "\n",
    "$P(z_{ij}|x_{tj}=1) = P(A_i|B) = \\frac{P(B|A_i)P(A_i)}{P(B)} = $\n",
    "\n",
    "учтем, что вероятность $P(B|A_i)=1$ т.к. если игрок дал правильный ответ, то и команда дала правильный ответ\n",
    "\n",
    "$= \\frac{P(A_i)}{P(B)} = \\frac{\\sigma(p_{i} + q_{j} + const)}{1 - \\prod_{k \\leqslant m}(1 - p(A_k))} = \\frac{\\sigma(p_{i} + q_{j} + const)}{1 - \\prod_{k \\leqslant m}(1 - \\sigma(p_{k} + q_{j} + const))}$"
   ]
  },
  {
   "cell_type": "code",
   "execution_count": 43,
   "metadata": {},
   "outputs": [
    {
     "name": "stderr",
     "output_type": "stream",
     "text": [
      "100%|██████████| 689/689 [00:01<00:00, 523.00it/s]"
     ]
    },
    {
     "name": "stdout",
     "output_type": "stream",
     "text": [
      "Всего игроков: 59271\n",
      "Всего вопросов: 34078 - исключили вопросы, которые были отменены/сняты\n"
     ]
    },
    {
     "name": "stderr",
     "output_type": "stream",
     "text": [
      "\n"
     ]
    }
   ],
   "source": [
    "player_ids = set()\n",
    "train_questions_qty = 0\n",
    "\n",
    "for idx in tqdm.tqdm(train_tournaments.index):\n",
    "    tournament_questions = train_tournaments.loc[idx].total_questions\n",
    "    for team in results_data[idx]:\n",
    "        if 'mask' not in team:\n",
    "            continue\n",
    "        mask = team['mask']\n",
    "        if mask is None:\n",
    "            continue\n",
    "        canceled = np.sum([1 if a=='X' else 0 for a in mask])\n",
    "        for player in team['teamMembers']:\n",
    "            player_ids.add(player['player']['id'])\n",
    "\n",
    "    train_questions_qty += (tournament_questions - canceled)\n",
    "    \n",
    "player_ids = np.array(list(player_ids)).reshape(-1, 1)\n",
    "print(f'Всего игроков: {(player_ids.shape[0])}')\n",
    "print(f'Всего вопросов: {train_questions_qty} - исключили вопросы, которые были отменены/сняты')"
   ]
  },
  {
   "cell_type": "code",
   "execution_count": 44,
   "metadata": {},
   "outputs": [],
   "source": [
    "total_players = player_ids.shape[0]\n",
    "total_questions = train_questions_qty"
   ]
  },
  {
   "cell_type": "code",
   "execution_count": 45,
   "metadata": {},
   "outputs": [
    {
     "data": {
      "text/plain": [
       "OneHotEncoder(categories='auto', drop=None, dtype=<class 'numpy.float64'>,\n",
       "              handle_unknown='error', sparse=True)"
      ]
     },
     "execution_count": 45,
     "metadata": {},
     "output_type": "execute_result"
    }
   ],
   "source": [
    "ohe_players = OneHotEncoder()\n",
    "ohe_players.fit(player_ids)\n",
    "\n",
    "ohe_questions = OneHotEncoder()\n",
    "ohe_questions.fit(np.arange(train_questions_qty).reshape(-1, 1))"
   ]
  },
  {
   "cell_type": "code",
   "execution_count": 46,
   "metadata": {},
   "outputs": [
    {
     "name": "stderr",
     "output_type": "stream",
     "text": [
      "100%|██████████| 689/689 [02:10<00:00,  5.27it/s]\n"
     ]
    }
   ],
   "source": [
    "target = []\n",
    "data = []\n",
    "total_pairs = 0\n",
    "\n",
    "tournament_first_question_idx = 0\n",
    "for idx in tqdm.tqdm(train_tournaments.index):\n",
    "    if len(results_data[idx]) == 0:\n",
    "        continue\n",
    "    tournament_questions = train_tournaments.loc[idx].total_questions\n",
    "    team_data = []\n",
    "    for team in results_data[idx]:\n",
    "        if 'mask' not in team:\n",
    "            continue\n",
    "        mask = team['mask']\n",
    "        if mask is None:\n",
    "            continue\n",
    "        \n",
    "        # Убираем снятые вопросы (отмеченные 'Х')\n",
    "        mask = np.array([1 if a=='1' else 0 for a in mask if a!='X'])\n",
    "        \n",
    "        team_size = len(team['teamMembers'])\n",
    "        questions_qty = mask.shape[0]\n",
    "        \n",
    "        if team_size == 0:\n",
    "            continue\n",
    "            \n",
    "        players = np.array([np.full((questions_qty, ), player['player']['id'])\n",
    "                                for player in team['teamMembers']]).reshape(-1, 1)\n",
    "        players_matrix = ohe_players.transform(players)\n",
    "        \n",
    "        questions_list = np.tile(\n",
    "            np.arange(tournament_first_question_idx,\n",
    "                      tournament_first_question_idx + questions_qty\n",
    "                     ),\n",
    "            team_size\n",
    "        ).reshape(-1, 1)\n",
    "        questions_matrix = ohe_questions.transform(questions_list)\n",
    "        \n",
    "        # Результаты ответов\n",
    "        target.extend(np.tile(mask, team_size))\n",
    "        \n",
    "        team_data.append(hstack([players_matrix,\n",
    "                                 questions_matrix]))\n",
    "    tournament_first_question_idx += questions_qty\n",
    "    if len(team_data) > 0:\n",
    "        data.append(vstack(team_data))\n",
    "\n",
    "X = vstack(data)\n",
    "y = np.array(target)"
   ]
  },
  {
   "cell_type": "code",
   "execution_count": 47,
   "metadata": {},
   "outputs": [
    {
     "name": "stderr",
     "output_type": "stream",
     "text": [
      "[Parallel(n_jobs=1)]: Using backend SequentialBackend with 1 concurrent workers.\n"
     ]
    },
    {
     "name": "stdout",
     "output_type": "stream",
     "text": [
      "convergence after 25 epochs took 412 seconds\n"
     ]
    },
    {
     "name": "stderr",
     "output_type": "stream",
     "text": [
      "[Parallel(n_jobs=1)]: Done   1 out of   1 | elapsed:  6.9min finished\n"
     ]
    },
    {
     "name": "stdout",
     "output_type": "stream",
     "text": [
      "Accuracy: 0.7555412229133888\n",
      "CPU times: user 6min 48s, sys: 3.15 s, total: 6min 52s\n",
      "Wall time: 6min 54s\n"
     ]
    }
   ],
   "source": [
    "%%time\n",
    "\n",
    "baseline_2 = LogisticRegression(verbose=1, solver='saga')\n",
    "baseline_2.fit(X, y)\n",
    "pred = baseline_2.predict(X)\n",
    "print(f'Accuracy: {np.sum(pred == y)/len(pred)}')"
   ]
  },
  {
   "cell_type": "code",
   "execution_count": 48,
   "metadata": {},
   "outputs": [],
   "source": [
    "def calculate_metrics(model, tournaments=test_tournaments, result=results_data,\n",
    "                        ohe_players=ohe_players,\n",
    "                        ohe_questions=ohe_questions,\n",
    "                        average_q=0):\n",
    "    spearman_correlations = []\n",
    "    kendall_correlations = []\n",
    "    for i, idx in enumerate(tqdm.tqdm(tournaments.index)):\n",
    "        prediction, ground_true = [], []\n",
    "        for team in result[idx]:\n",
    "            # Если по команде нет результата - то пропускаем\n",
    "            if 'position' not in team:\n",
    "                continue\n",
    "            if 'mask' not in team:\n",
    "                continue\n",
    "            mask = team['mask']\n",
    "            if mask is None:\n",
    "                continue\n",
    "    \n",
    "            team_size = len(team['teamMembers'])\n",
    "            # Если в команде нет игроков - пропускаем\n",
    "            if team_size == 0:\n",
    "                continue\n",
    "            team_members = []\n",
    "            for player in team['teamMembers']:\n",
    "                # Пропускаем новых игроков, которых не было в train\n",
    "                try:\n",
    "                    ohe_players.transform([[player['player']['id']]])\n",
    "                    team_members.append(player['player']['id'])\n",
    "                except ValueError:\n",
    "                    continue\n",
    "            team_size = len(team_members)\n",
    "            if team_size == 0:\n",
    "                continue\n",
    "                \n",
    "            ground_true.append(team['position'])\n",
    "            players_matrix = ohe_players.transform(np.array(team_members).reshape(-1, 1))\n",
    "            question_matrix = ohe_questions.transform(np.full((team_size, 1), average_q))\n",
    "            X = hstack([players_matrix, question_matrix])\n",
    "            skill = model.predict_proba(X)[:, 1]\n",
    "            team_rating = 1 - np.prod(1 - skill)\n",
    "            prediction.append(-team_rating)\n",
    "        if np.unique(ground_true).shape[0] == 1:\n",
    "            continue\n",
    "        spearman_corr = spearmanr(prediction, ground_true)[0]\n",
    "        spearman_correlations.append(spearman_corr)\n",
    "        kendall_corr = kendalltau(prediction, ground_true)[0]\n",
    "        kendall_correlations.append(kendall_corr)\n",
    "            \n",
    "    spearman_corr = np.mean([t for t in spearman_correlations if np.isfinite(t)])\n",
    "    kendall_corr = np.mean([t for t in kendall_correlations if np.isfinite(t)])\n",
    "    return spearman_corr, kendall_corr"
   ]
  },
  {
   "cell_type": "code",
   "execution_count": 49,
   "metadata": {},
   "outputs": [
    {
     "name": "stderr",
     "output_type": "stream",
     "text": [
      "100%|██████████| 416/416 [01:31<00:00,  4.56it/s]"
     ]
    },
    {
     "name": "stdout",
     "output_type": "stream",
     "text": [
      "Корреляция Спирмена: 0.74\n",
      "Корреляция Кендалла: 0.58\n"
     ]
    },
    {
     "name": "stderr",
     "output_type": "stream",
     "text": [
      "\n"
     ]
    }
   ],
   "source": [
    "spearman_baseline_2, kendall_base_line_2 = calculate_metrics(baseline_2)\n",
    "print(f'Корреляция Спирмена: {spearman_baseline_2:0.2f}')\n",
    "print(f'Корреляция Кендалла: {kendall_base_line_2:0.2f}')"
   ]
  },
  {
   "cell_type": "markdown",
   "metadata": {},
   "source": [
    "на подготовкительно шагу результат уже __лучше__, чем у бейзлайна"
   ]
  },
  {
   "cell_type": "code",
   "execution_count": 50,
   "metadata": {},
   "outputs": [],
   "source": [
    "from scipy.sparse import csc_matrix\n",
    "\n",
    "def E_step(model, train_data=X,\n",
    "           y = y,\n",
    "           tournaments=train_tournaments,\n",
    "           result=results_data,\n",
    "           num_players=total_players,\n",
    "           num_questions=total_questions):\n",
    "    \n",
    "    predictions = model.predict_proba(train_data)[:, 1]\n",
    "    z = np.zeros(predictions.shape)   \n",
    "    tournament_first_question_idx = 0\n",
    "    current_idx = 0\n",
    "    \n",
    "    for idx in tqdm.tqdm(tournaments.index):\n",
    "        if len(result[idx]) == 0:\n",
    "            continue\n",
    "        tournament_questions = tournaments.loc[idx].total_questions\n",
    "        team_data = []\n",
    "        for team in result[idx]:\n",
    "            if 'mask' not in team:\n",
    "                continue\n",
    "            mask = team['mask']\n",
    "            if mask is None:\n",
    "                continue\n",
    "\n",
    "            # Убираем снятые вопросы (отмеченные 'Х')\n",
    "            mask = np.array([1 if a=='1' else 0 for a in mask if a!='X'])\n",
    "\n",
    "            team_size = len(team['teamMembers'])\n",
    "            questions_qty = mask.shape[0]\n",
    "            batch_size = team_size * questions_qty\n",
    "\n",
    "            if team_size == 0:\n",
    "                continue\n",
    "\n",
    "            team_answers = predictions[current_idx: current_idx + batch_size]\n",
    "            true_team_answers = y[current_idx: current_idx + questions_qty]\n",
    "            \n",
    "            team_answers = team_answers.reshape((-1, questions_qty)).T\n",
    "            denominator = 1 - np.prod(1 - team_answers, axis=1)\n",
    "            team_answers = team_answers / denominator.reshape(-1, 1)\n",
    "            \n",
    "            team_answers[true_team_answers==0, :] = 0\n",
    "            \n",
    "            predictions[current_idx: current_idx + batch_size] = team_answers.T.reshape(-1) \n",
    "            current_idx += batch_size\n",
    "    return predictions"
   ]
  },
  {
   "cell_type": "code",
   "execution_count": 51,
   "metadata": {},
   "outputs": [],
   "source": [
    "def log_loss(pred, target, weights=None):\n",
    "    if weights is not None:\n",
    "        return np.average(-target * np.log(pred) - (1 - target) * np.log(1 - pred), weights=weights)\n",
    "    return np.mean(-target * np.log(pred) - (1 - target) * np.log(1 - pred))"
   ]
  },
  {
   "cell_type": "code",
   "execution_count": 52,
   "metadata": {},
   "outputs": [],
   "source": [
    "def M_step(z, train_data=X):\n",
    "    y_0 = np.zeros((train_data.shape[0], 1))\n",
    "    y_1 = np.ones((train_data.shape[0], 1))\n",
    "    y = np.vstack([y_0, y_1]).reshape(-1)\n",
    "    train_data = vstack([train_data, train_data])\n",
    "    weights = np.concatenate([1 - z, z])\n",
    "    model = LogisticRegression(verbose=1, solver='saga')\n",
    "    model.fit(train_data, y, sample_weight=weights)\n",
    "    proba = model.predict_proba(train_data)[:, 1]\n",
    "    return model, log_loss(proba, y, weights)"
   ]
  },
  {
   "cell_type": "code",
   "execution_count": 53,
   "metadata": {},
   "outputs": [
    {
     "name": "stderr",
     "output_type": "stream",
     "text": [
      "100%|██████████| 689/689 [06:05<00:00,  1.89it/s]\n",
      "100%|██████████| 416/416 [01:36<00:00,  4.31it/s]"
     ]
    },
    {
     "name": "stdout",
     "output_type": "stream",
     "text": [
      "Baseline #2\n",
      "Корреляция Спирмена - train: 0.7845\n",
      "Корреляция Кендалла - train: 0.6294\n",
      "Корреляция Спирмена - test: 0.7378\n",
      "Корреляция Кендалла - test: 0.5812\n"
     ]
    },
    {
     "name": "stderr",
     "output_type": "stream",
     "text": [
      "\n"
     ]
    }
   ],
   "source": [
    "spearman_train, kendall_train = calculate_metrics(baseline_2, tournaments=train_tournaments)\n",
    "spearman_test, kendall_test = calculate_metrics(baseline_2)\n",
    "print('Baseline #2')\n",
    "print(f'Корреляция Спирмена - train: {spearman_train:0.4f}')\n",
    "print(f'Корреляция Кендалла - train: {kendall_train:0.4f}')\n",
    "print(f'Корреляция Спирмена - test: {spearman_test:0.4f}')\n",
    "print(f'Корреляция Кендалла - test: {kendall_test:0.4f}')"
   ]
  },
  {
   "cell_type": "code",
   "execution_count": 54,
   "metadata": {},
   "outputs": [],
   "source": [
    "ITERS = 5"
   ]
  },
  {
   "cell_type": "code",
   "execution_count": 55,
   "metadata": {},
   "outputs": [
    {
     "name": "stderr",
     "output_type": "stream",
     "text": [
      "100%|██████████| 689/689 [00:02<00:00, 251.19it/s]\n",
      "[Parallel(n_jobs=1)]: Using backend SequentialBackend with 1 concurrent workers.\n"
     ]
    },
    {
     "name": "stdout",
     "output_type": "stream",
     "text": [
      "convergence after 23 epochs took 872 seconds\n"
     ]
    },
    {
     "name": "stderr",
     "output_type": "stream",
     "text": [
      "[Parallel(n_jobs=1)]: Done   1 out of   1 | elapsed: 14.6min finished\n",
      "100%|██████████| 689/689 [05:27<00:00,  2.10it/s]\n",
      "100%|██████████| 416/416 [01:22<00:00,  5.04it/s]\n"
     ]
    },
    {
     "name": "stdout",
     "output_type": "stream",
     "text": [
      "После итерации 1\n",
      "Корреляция Спирмена - train: 0.8183\n",
      "Корреляция Кендалла - train: 0.6650\n",
      "Корреляция Спирмена - test: 0.7740\n",
      "Корреляция Кендалла - test: 0.6168\n",
      "Log loss: 0.3931\n"
     ]
    },
    {
     "name": "stderr",
     "output_type": "stream",
     "text": [
      "100%|██████████| 689/689 [00:02<00:00, 243.29it/s]\n",
      "[Parallel(n_jobs=1)]: Using backend SequentialBackend with 1 concurrent workers.\n"
     ]
    },
    {
     "name": "stdout",
     "output_type": "stream",
     "text": [
      "convergence after 23 epochs took 872 seconds\n"
     ]
    },
    {
     "name": "stderr",
     "output_type": "stream",
     "text": [
      "[Parallel(n_jobs=1)]: Done   1 out of   1 | elapsed: 14.6min finished\n",
      "100%|██████████| 689/689 [05:20<00:00,  2.15it/s]\n",
      "100%|██████████| 416/416 [01:21<00:00,  5.13it/s]\n"
     ]
    },
    {
     "name": "stdout",
     "output_type": "stream",
     "text": [
      "После итерации 2\n",
      "Корреляция Спирмена - train: 0.8303\n",
      "Корреляция Кендалла - train: 0.6789\n",
      "Корреляция Спирмена - test: 0.7897\n",
      "Корреляция Кендалла - test: 0.6307\n",
      "Log loss: 0.3470\n"
     ]
    },
    {
     "name": "stderr",
     "output_type": "stream",
     "text": [
      "100%|██████████| 689/689 [00:02<00:00, 272.04it/s]\n",
      "[Parallel(n_jobs=1)]: Using backend SequentialBackend with 1 concurrent workers.\n"
     ]
    },
    {
     "name": "stdout",
     "output_type": "stream",
     "text": [
      "convergence after 25 epochs took 955 seconds\n"
     ]
    },
    {
     "name": "stderr",
     "output_type": "stream",
     "text": [
      "[Parallel(n_jobs=1)]: Done   1 out of   1 | elapsed: 15.9min finished\n",
      "100%|██████████| 689/689 [05:20<00:00,  2.15it/s]\n",
      "100%|██████████| 416/416 [01:21<00:00,  5.12it/s]\n"
     ]
    },
    {
     "name": "stdout",
     "output_type": "stream",
     "text": [
      "После итерации 3\n",
      "Корреляция Спирмена - train: 0.8366\n",
      "Корреляция Кендалла - train: 0.6857\n",
      "Корреляция Спирмена - test: 0.7926\n",
      "Корреляция Кендалла - test: 0.6341\n",
      "Log loss: 0.3285\n"
     ]
    },
    {
     "name": "stderr",
     "output_type": "stream",
     "text": [
      "100%|██████████| 689/689 [00:02<00:00, 275.16it/s]\n",
      "[Parallel(n_jobs=1)]: Using backend SequentialBackend with 1 concurrent workers.\n"
     ]
    },
    {
     "name": "stdout",
     "output_type": "stream",
     "text": [
      "convergence after 24 epochs took 5341 seconds\n"
     ]
    },
    {
     "name": "stderr",
     "output_type": "stream",
     "text": [
      "[Parallel(n_jobs=1)]: Done   1 out of   1 | elapsed: 89.0min finished\n",
      "100%|██████████| 689/689 [05:48<00:00,  1.97it/s]\n",
      "100%|██████████| 416/416 [01:25<00:00,  4.84it/s]\n"
     ]
    },
    {
     "name": "stdout",
     "output_type": "stream",
     "text": [
      "После итерации 4\n",
      "Корреляция Спирмена - train: 0.8425\n",
      "Корреляция Кендалла - train: 0.6929\n",
      "Корреляция Спирмена - test: 0.7931\n",
      "Корреляция Кендалла - test: 0.6346\n",
      "Log loss: 0.3203\n"
     ]
    },
    {
     "name": "stderr",
     "output_type": "stream",
     "text": [
      "100%|██████████| 689/689 [00:02<00:00, 281.40it/s]\n",
      "[Parallel(n_jobs=1)]: Using backend SequentialBackend with 1 concurrent workers.\n"
     ]
    },
    {
     "name": "stdout",
     "output_type": "stream",
     "text": [
      "convergence after 24 epochs took 915 seconds\n"
     ]
    },
    {
     "name": "stderr",
     "output_type": "stream",
     "text": [
      "[Parallel(n_jobs=1)]: Done   1 out of   1 | elapsed: 15.3min finished\n",
      "100%|██████████| 689/689 [05:24<00:00,  2.12it/s]\n",
      "100%|██████████| 416/416 [01:22<00:00,  5.03it/s]"
     ]
    },
    {
     "name": "stdout",
     "output_type": "stream",
     "text": [
      "После итерации 5\n",
      "Корреляция Спирмена - train: 0.8470\n",
      "Корреляция Кендалла - train: 0.6985\n",
      "Корреляция Спирмена - test: 0.7923\n",
      "Корреляция Кендалла - test: 0.6344\n",
      "Log loss: 0.3160\n"
     ]
    },
    {
     "name": "stderr",
     "output_type": "stream",
     "text": [
      "\n"
     ]
    }
   ],
   "source": [
    "spearman_train = [spearman_train]\n",
    "spearman_test = [spearman_test]\n",
    "kendall_train = [kendall_train]\n",
    "kendall_test = [kendall_test]\n",
    "\n",
    "best_metrics = np.mean([spearman_test, kendall_test])\n",
    "best_em_model = baseline_2\n",
    "\n",
    "model_m = baseline_2\n",
    "for i in range(ITERS):\n",
    "    z = E_step(model=model_m)\n",
    "    model_m, loss = M_step(z)\n",
    "    \n",
    "    spearman_corr_train, kendall_corr_train = calculate_metrics(model_m, tournaments=train_tournaments)\n",
    "    spearman_corr_test, kendall_corr_test = calculate_metrics(model_m)\n",
    "    spearman_train.append(spearman_corr_train)\n",
    "    spearman_test.append(spearman_corr_test)\n",
    "    kendall_train.append(kendall_corr_train)\n",
    "    kendall_test.append(kendall_corr_test)\n",
    "    \n",
    "    print(f'После итерации {i + 1}')\n",
    "    print(f'Корреляция Спирмена - train: {spearman_corr_train:0.4f}')\n",
    "    print(f'Корреляция Кендалла - train: {kendall_corr_train:0.4f}')\n",
    "    print(f'Корреляция Спирмена - test: {spearman_corr_test:0.4f}')\n",
    "    print(f'Корреляция Кендалла - test: {kendall_corr_test:0.4f}')\n",
    "    print(f'Log loss: {loss:0.4f}')\n",
    "    \n",
    "    if np.mean([spearman_corr_test, kendall_corr_test]) > best_metrics:\n",
    "        best_em_model = model_m\n",
    "        best_metrics = np.mean([spearman_corr_test, kendall_corr_test])"
   ]
  },
  {
   "cell_type": "code",
   "execution_count": 56,
   "metadata": {},
   "outputs": [
    {
     "data": {
      "text/plain": [
       "[0.7844921114267455,\n",
       " 0.8183171612484671,\n",
       " 0.8303277332123717,\n",
       " 0.8365916196456251,\n",
       " 0.8425441799819272,\n",
       " 0.8469623359351456]"
      ]
     },
     "execution_count": 56,
     "metadata": {},
     "output_type": "execute_result"
    }
   ],
   "source": [
    "spearman_train"
   ]
  },
  {
   "cell_type": "code",
   "execution_count": 57,
   "metadata": {},
   "outputs": [
    {
     "data": {
      "image/png": "[encoded data removed]",
      "text/plain": [
       "<Figure size 432x288 with 1 Axes>"
      ]
     },
     "metadata": {
      "needs_background": "light"
     },
     "output_type": "display_data"
    }
   ],
   "source": [
    "plt.plot(spearman_train[0] + spearman_train[1:], label='Корреляция Спирмена - train')\n",
    "plt.plot(kendall_train[0] + kendall_train[1:], label='Корреляция Кендалла - train')\n",
    "plt.plot(spearman_test[0] + spearman_test[1:], label='Корреляция Спирмена - test')\n",
    "plt.plot(kendall_test[0] + kendall_test[1:], label='Корреляция Кендалла - test')\n",
    "plt.legend()\n",
    "plt.title('Метрики')\n",
    "plt.show()"
   ]
  },
  {
   "cell_type": "markdown",
   "metadata": {},
   "source": [
    "В дальнейшем будем использовать лучшую модель "
   ]
  },
  {
   "cell_type": "code",
   "execution_count": 58,
   "metadata": {},
   "outputs": [],
   "source": [
    "pickle.dump(best_em_model, open('best_em_model.sav', 'wb'))\n",
    "pickle.dump(ohe_players, open('players.sav', 'wb'))\n",
    "pickle.dump(ohe_questions, open('questions.sav', 'wb'))"
   ]
  },
  {
   "cell_type": "code",
   "execution_count": 59,
   "metadata": {},
   "outputs": [],
   "source": [
    "best_em_model = pickle.load(open('best_em_model.sav', 'rb'))\n",
    "ohe_players = pickle.load(open('players.sav', 'rb'))\n",
    "ohe_questions = pickle.load(open('questions.sav', 'rb'))"
   ]
  },
  {
   "cell_type": "markdown",
   "metadata": {},
   "source": [
    "# 5. А что там с вопросами?"
   ]
  },
  {
   "cell_type": "code",
   "execution_count": 60,
   "metadata": {},
   "outputs": [],
   "source": [
    "p = best_em_model.coef_[0][:total_players] # \"скилл\" игрока\n",
    "q = best_em_model.coef_[0][total_players:] # \"сложность\" вопроса"
   ]
  },
  {
   "cell_type": "code",
   "execution_count": 61,
   "metadata": {},
   "outputs": [
    {
     "data": {
      "image/png": "[encoded data removed]",
      "text/plain": [
       "<Figure size 432x288 with 1 Axes>"
      ]
     },
     "metadata": {
      "needs_background": "light"
     },
     "output_type": "display_data"
    },
    {
     "name": "stdout",
     "output_type": "stream",
     "text": [
      "Средняя сложность вопроса: -0.0\n"
     ]
    }
   ],
   "source": [
    "plt.hist(q)\n",
    "plt.title('Сложность вопросов')\n",
    "plt.show()\n",
    "print(f'Средняя сложность вопроса: {round(np.mean(q), 3)}')"
   ]
  },
  {
   "cell_type": "code",
   "execution_count": 62,
   "metadata": {},
   "outputs": [
    {
     "name": "stderr",
     "output_type": "stream",
     "text": [
      "100%|██████████| 689/689 [00:00<00:00, 692.74it/s]\n"
     ]
    }
   ],
   "source": [
    "tournaments_questions = {}\n",
    "current_idx = 0\n",
    "for idx in tqdm.tqdm(train_tournaments.index):\n",
    "    tournament_questions = train_tournaments.loc[idx].total_questions\n",
    "    for team in results_data[idx]:\n",
    "        if 'mask' not in team:\n",
    "            continue\n",
    "        mask = team['mask']\n",
    "        if mask is None:\n",
    "            continue\n",
    "        canceled = np.sum([1 if a=='X' else 0 for a in mask])\n",
    "    tournaments_questions[idx] = q[current_idx:current_idx + (tournament_questions - canceled)]\n",
    "    current_idx += (tournament_questions - canceled)"
   ]
  },
  {
   "cell_type": "code",
   "execution_count": 63,
   "metadata": {},
   "outputs": [],
   "source": [
    "average_difficulty = {k: np.mean(v) for k, v in tournaments_questions.items()}\n",
    "sorted_tournaments = sorted([(k, v) for k, v in average_difficulty.items()], key= lambda x: x[1])"
   ]
  },
  {
   "cell_type": "code",
   "execution_count": 64,
   "metadata": {},
   "outputs": [
    {
     "name": "stdout",
     "output_type": "stream",
     "text": [
      "1. 5159-Первенство правого полушария - -1.813\n",
      "2. 5464-Зимние игры - -1.658\n",
      "3. 5025-Кубок городов - -1.623\n",
      "4. 5083-Ускользающая сова - -1.441\n",
      "5. 5887-Я.Сова - -1.436\n",
      "6. 5905-Синхрон Беловежской Зимы. День второй. - -1.432\n",
      "7. 5794-Блаженный Августинер - -1.407\n",
      "8. 5815-Гусарская лига. III сезон. II этап - -1.407\n",
      "9. 5186-VERSUS: Коробейников vs. Матвеев - -1.352\n",
      "10. 5098-Ра-II: синхрон \"Борского корабела\" - -1.348\n"
     ]
    }
   ],
   "source": [
    "# Турниры с самыми сложными вопросами:\n",
    "\n",
    "for i, (k, v) in enumerate(sorted_tournaments[:10]):\n",
    "    print(f'{i + 1}. {k}-{train_tournaments.loc[k, \"name\"]} - {v:0.3f}')"
   ]
  },
  {
   "cell_type": "code",
   "execution_count": 65,
   "metadata": {},
   "outputs": [
    {
     "name": "stdout",
     "output_type": "stream",
     "text": [
      "1. 5807-Лига Сибири. II тур. - 2.193\n",
      "2. 5013-(а)Синхрон-lite. Лига старта. Эпизод V - 2.127\n",
      "3. 5438-Синхрон Лиги Разума - 2.112\n",
      "4. 5795-Кубок Москвы - 2.102\n",
      "5. 5797-Третья октава - 1.993\n",
      "6. 5009-(а)Синхрон-lite. Лига старта. Эпизод III - 1.964\n",
      "7. 5817-Симбирск-Open - 1.932\n",
      "8. 5979-ТРИОтлон-4 - 1.853\n",
      "9. 5704-(а)Синхрон-lite. Лига старта. Эпизод X - 1.840\n"
     ]
    }
   ],
   "source": [
    "# Турниры с самыми простыми вопросами:\n",
    "\n",
    "for i, (k, v) in enumerate(sorted_tournaments[:-10:-1]):\n",
    "    print(f'{i + 1}. {k}-{train_tournaments.loc[k, \"name\"]} - {v:0.3f}')"
   ]
  },
  {
   "cell_type": "code",
   "execution_count": null,
   "metadata": {},
   "outputs": [],
   "source": []
  }
 ],
 "metadata": {
  "kernelspec": {
   "display_name": "Python 3",
   "language": "python",
   "name": "python3"
  },
  "language_info": {
   "codemirror_mode": {
    "name": "ipython",
    "version": 3
   },
   "file_extension": ".py",
   "mimetype": "text/x-python",
   "name": "python",
   "nbconvert_exporter": "python",
   "pygments_lexer": "ipython3",
   "version": "3.7.6"
  }
 },
 "nbformat": 4,
 "nbformat_minor": 4
}
