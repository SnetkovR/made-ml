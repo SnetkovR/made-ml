{
 "cells": [
  {
   "cell_type": "code",
   "execution_count": 36,
   "metadata": {},
   "outputs": [],
   "source": [
    "import os\n",
    "import string\n",
    "import random\n",
    "from itertools import combinations, product\n",
    "\n",
    "import numpy as np\n",
    "import matplotlib.pyplot as plt\n",
    "\n",
    "%matplotlib inline"
   ]
  },
  {
   "cell_type": "code",
   "execution_count": 37,
   "metadata": {},
   "outputs": [],
   "source": [
    "corpora_ru = list(open('WarAndPeace.txt', encoding=\"utf-8\")) + list(open('AnnaKarenina.txt', encoding=\"utf-8\"))"
   ]
  },
  {
   "cell_type": "code",
   "execution_count": 38,
   "metadata": {},
   "outputs": [],
   "source": [
    "# переведем в строчные буквы, удалим все символы, кроме букв из алфавита\n",
    "def clear_line(text, alphabet):\n",
    "    line = ''\n",
    "    for symbol in text.lower():\n",
    "        if symbol in alphabet:\n",
    "            line += symbol\n",
    "    return ' '.join(line.split())\n",
    "            \n",
    "def clear_corpora(corpora, alphabet):\n",
    "    cleaned = []\n",
    "    for line in corpora:\n",
    "        cleared_line = clear_line(line, alphabet)\n",
    "        if len(cleared_line) > 0:\n",
    "            cleared_line += ' '\n",
    "            cleaned.append(cleared_line)\n",
    "            \n",
    "    return cleaned\n",
    "\n",
    "alphabet_ru = 'абвгдеёжзийклмнопрстуфхцчшщъыьэюя '\n",
    "corpora_ru = clear_corpora(corpora_ru, alphabet_ru)"
   ]
  },
  {
   "cell_type": "markdown",
   "metadata": {},
   "source": [
    "1. Реализуйте базовый частотный метод по Шерлоку Холмсу:\n",
    "\n",
    "- подсчитайте частоты букв по корпусам (пунктуацию и капитализацию можно просто опустить, а вот пробелы лучше оставить);\n",
    "- возьмите какие-нибудь тестовые тексты (нужно взять по меньшей мере 2-3 предложения, иначе совсем вряд ли сработает), \n",
    "- зашифруйте их посредством случайной перестановки символов;\n",
    "- расшифруйте их таким частотным методом."
   ]
  },
  {
   "cell_type": "code",
   "execution_count": 39,
   "metadata": {},
   "outputs": [],
   "source": [
    "def calculate_freques(alphabet, corpora_data):\n",
    "    total_number = len(alphabet)\n",
    "    freques = {''.join(symbol): 0 for symbol in alphabet}\n",
    "    \n",
    "    for line in corpora_data:\n",
    "        for symbol in line:\n",
    "            freques[symbol] += 1\n",
    "            total_number += 1\n",
    "\n",
    "    for symbol in freques:\n",
    "        freques[symbol] /= total_number\n",
    "    \n",
    "    return freques\n",
    "\n",
    "freques_ru = calculate_freques(alphabet_ru, corpora_ru)"
   ]
  },
  {
   "cell_type": "code",
   "execution_count": 40,
   "metadata": {},
   "outputs": [
    {
     "name": "stdout",
     "output_type": "stream",
     "text": [
      "между тем холмс ненавидевший своей цыганской душой всякую форму светской жизни оставался жить в нашей квартире на бейкерстрит окруженный грудами своих старых книг чередуя недели увлечения кокаином с приступами честолюбия дремотное состояние наркомана с дикой энергией присущей его натуре\n"
     ]
    }
   ],
   "source": [
    "# тестовый текст, на котором будем проверять алгоритмы\n",
    "message =\"\"\"\n",
    "Между тем Холмс, ненавидевший своей цыганской душой всякую форму светской жизни, оставался жить в нашей квартире на Бейкер-стрит, окруженный грудами своих старых книг, чередуя недели увлечения кокаином с приступами честолюбия, дремотное состояние наркомана – с дикой энергией, присущей его натуре.\n",
    "\"\"\"\n",
    "test_message = clear_line(message, alphabet_ru)\n",
    "print(test_message)"
   ]
  },
  {
   "cell_type": "code",
   "execution_count": 41,
   "metadata": {},
   "outputs": [],
   "source": [
    "class RandomPermuteCipher:\n",
    "    \"\"\"шифрователь случайной перестановкой символов\"\"\"\n",
    "    def __init__(self, alphabet):\n",
    "        self.alphabet = alphabet\n",
    "        \n",
    "        permutation = np.random.permutation(len(alphabet))\n",
    "        self.cipher_dict = {}\n",
    "        for i in range(len(alphabet)):\n",
    "            self.cipher_dict[alphabet[i]] = alphabet[permutation[i]]\n",
    "\n",
    "    def cipher(self, message):\n",
    "        return ''.join([self.cipher_dict.get(symbol, '') for symbol in message])"
   ]
  },
  {
   "cell_type": "code",
   "execution_count": 42,
   "metadata": {},
   "outputs": [],
   "source": [
    "# расшифровывает по готовому словарю\n",
    "def decipher(ciphered, decipher_dict):\n",
    "    return ''.join([decipher_dict.get(symbol, '') for symbol in ciphered])"
   ]
  },
  {
   "cell_type": "code",
   "execution_count": 43,
   "metadata": {},
   "outputs": [
    {
     "name": "stdout",
     "output_type": "stream",
     "text": [
      "укжтя ьку июруе чкчпйцткйвцъ ейюкъ нёмпчедюъ тявюъ йещдяг бюыуя ейкьедюъ жцачц юеьпйпрещ жцьф й чпвкъ дйпыьцык чп окъдкыеьыць юдыяжкччёъ мыятпуц ейюци еьпыёи дчцм лкыктящ чкткрц яйрклкчцщ дюдпцчюу е зыцеьязпуц лкеьюргоцщ тыкуюьчюк еюеьющчцк чпыдюупчп е тцдюъ счкымцкъ зыцеяшкъ кмю чпьяык\n"
     ]
    }
   ],
   "source": [
    "cipher = RandomPermuteCipher(alphabet_ru)\n",
    "\n",
    "ciphered = cipher.cipher(test_message)\n",
    "print(ciphered)"
   ]
  },
  {
   "cell_type": "code",
   "execution_count": 47,
   "metadata": {},
   "outputs": [],
   "source": [
    "def decipher_unigramm(ciphered, freques_dict):\n",
    "    \"\"\"\n",
    "    1. Подсчитываем частоты символов в зашифрованном сообщении.\n",
    "    2. Упорядочиваем по убыванию частоты и составляем словарь расшифровки,\n",
    "    сопоставляя зашифрованные символы символам из корпуса по частоте.\n",
    "    \"\"\"\n",
    "    freques = {symbol : 0 for symbol in set(ciphered)}\n",
    "    for symbol in ciphered:\n",
    "        freques[symbol] += 1\n",
    "\n",
    "    freques = sorted(\n",
    "        [(letter, freq) for letter, freq in freques.items()], \n",
    "        key=lambda p : p[1], reverse=True\n",
    "    )\n",
    "    corpus_freques = sorted(\n",
    "        [(letter, freq) for letter, freq in freques_dict.items()], \n",
    "        key=lambda p : p[1], reverse=True\n",
    "    )\n",
    "\n",
    "    decipher_dict = {}\n",
    "    for i in range(len(freques)):\n",
    "        decipher_dict[freques[i][0]] = corpus_freques[i][0]\n",
    "    \n",
    "    return decipher_dict"
   ]
  },
  {
   "cell_type": "code",
   "execution_count": 48,
   "metadata": {},
   "outputs": [
    {
     "data": {
      "text/plain": [
       "'могур лом жаьмн иоисдеуодзев ндаов щчясинкав урзав днпкрш хатмр ндолнкав геюие анлсдсьнп гелф д исзов кдстлето ис йовкотнлтел актргоиичв ятрусме ндаеж нлстчж киея ыотоурп иоуоье рдьоыоиеп каксеиам н бтенлрбсме ыонлаьшйеп утомалиао нанлапиео исткамсис н уекав циотяеов бтенрэов ояа ислрто'"
      ]
     },
     "execution_count": 48,
     "metadata": {},
     "output_type": "execute_result"
    }
   ],
   "source": [
    "decipher_dict = decipher_unigramm(ciphered, freques_ru)\n",
    "decipher(ciphered, decipher_dict)"
   ]
  },
  {
   "cell_type": "code",
   "execution_count": 49,
   "metadata": {},
   "outputs": [
    {
     "data": {
      "text/plain": [
       "0.09375"
      ]
     },
     "execution_count": 49,
     "metadata": {},
     "output_type": "execute_result"
    }
   ],
   "source": [
    "# доля правильно расшифрованных букв\n",
    "def quality(cipher_dict, decipher_dict):\n",
    "    n_correct = 0\n",
    "    for symbol in cipher_dict.keys():\n",
    "        ciphered_symbol = cipher_dict[symbol]\n",
    "        if ciphered_symbol in decipher_dict and symbol == decipher_dict[ciphered_symbol]:\n",
    "            n_correct += 1\n",
    "    return n_correct / len(decipher_dict)\n",
    "    \n",
    "quality(cipher.cipher_dict, decipher_dict)"
   ]
  },
  {
   "cell_type": "markdown",
   "metadata": {},
   "source": [
    "Качество очень низкое"
   ]
  },
  {
   "cell_type": "markdown",
   "metadata": {},
   "source": [
    "2. Вряд ли в результате получилась такая уж хорошая расшифровка, разве что если вы брали в качестве тестовых данных целые рассказы. Но и Шерлок Холмс был не так уж прост: после буквы E, которая действительно выделяется частотой, дальше он анализировал уже конкретные слова и пытался угадать, какими они могли бы быть. Я не знаю, как запрограммировать такой интуитивный анализ, так что давайте просто сделаем следующий логический шаг:\n",
    "\n",
    "подсчитайте частоты биграмм (т.е. пар последовательных букв) по корпусам;\n",
    "проведите тестирование аналогично п.1, но при помощи биграмм."
   ]
  },
  {
   "cell_type": "code",
   "execution_count": 50,
   "metadata": {},
   "outputs": [],
   "source": [
    "def get_bigramm_freques(alphabet, corpora_data):\n",
    "    total_number = len(alphabet) ** 2\n",
    "    freques = {''.join(bigramm) : 1 for bigramm in product(alphabet, repeat=2)}\n",
    "    \n",
    "    for line in corpora_data:\n",
    "        for idx in range(len(line) - 1):\n",
    "            bigramm = line[idx:idx + 2]\n",
    "            freques[bigramm] += 1\n",
    "            total_number += 1\n",
    "            \n",
    "    for ngramm, freq in freques.items():\n",
    "        freques[ngramm] = np.log(freq / total_number)\n",
    "        \n",
    "    return freques\n",
    "\n",
    "bigramm_logfreques_ru = get_bigramm_freques(alphabet_ru, corpora_ru)"
   ]
  },
  {
   "cell_type": "code",
   "execution_count": 51,
   "metadata": {},
   "outputs": [],
   "source": [
    "def get_decipher_bigramm(ciphered, freques_dict):\n",
    "    text_symbols = list(set(ciphered))\n",
    "    freques = {''.join(bigramm):1 for bigramm in product(text_symbols, repeat=2)}\n",
    "\n",
    "    for idx in range(len(ciphered) - 1):\n",
    "        bigramm = ciphered[idx:idx + 2]\n",
    "        freques[bigramm] += 1\n",
    "\n",
    "    freques = sorted(\n",
    "        [(bigramm, freq) for bigramm, freq in freques.items()], \n",
    "        key=lambda p : p[1], reverse=True\n",
    "    )\n",
    "   \n",
    "    corpus_freques = sorted(\n",
    "        [(bigramm, freq) for bigramm, freq in freques_dict.items()], \n",
    "        key=lambda p : p[1], reverse=True\n",
    "    )\n",
    "\n",
    "    decipher_dict = {}\n",
    "    \n",
    "    for i in range(len(freques)):\n",
    "        l1, l2 = freques[i][0]\n",
    "        if l1 in decipher_dict:\n",
    "            if l2 in decipher_dict:\n",
    "                pass\n",
    "            else:\n",
    "                for j in range(len(corpus_freques)):\n",
    "                    d1, d2 = corpus_freques[j][0]\n",
    "                    if (d1 in decipher_dict.values() and \n",
    "                        d2 not in decipher_dict.values()):\n",
    "                        decipher_dict[l2] = d2\n",
    "                        break\n",
    "        else:\n",
    "            if l2 in decipher_dict:\n",
    "                for j in range(len(corpus_freques)):\n",
    "                    d1, d2 = corpus_freques[j][0]\n",
    "                    if (d1 not in decipher_dict.values() and \n",
    "                        d2 in decipher_dict.values()):\n",
    "                        decipher_dict[l1] = d1\n",
    "                        break\n",
    "            else:\n",
    "                for j in range(len(corpus_freques)):\n",
    "                    d1, d2 = corpus_freques[j][0]\n",
    "                    if (d1 not in decipher_dict.values() and \n",
    "                        d2 not in decipher_dict.values()):\n",
    "                        decipher_dict[l1] = d1\n",
    "                        decipher_dict[l2] = d2\n",
    "                        break\n",
    "                \n",
    "    return decipher_dict\n",
    "\n",
    "decipher_dict = get_decipher_bigramm(ciphered, bigramm_logfreques_ru)"
   ]
  },
  {
   "cell_type": "code",
   "execution_count": 52,
   "metadata": {},
   "outputs": [
    {
     "data": {
      "text/plain": [
       "'кийбы ник мрдкс аиалвебивэео сврио фючласпро быэро встпыш урякы свинспро йезае рснлвлдст йенж в алэио пвлянеяи ал щиопиясняен рпяыйиааюо чяыблке сврем снляюм паеч ьияибыт аибиде ывдиьиает прплеарк с гяесныглке ьиснрдшщет бяикрнари срснртаеи аляпрклал с бепро цаиячеио гяесыхио ичр алныяи'"
      ]
     },
     "execution_count": 52,
     "metadata": {},
     "output_type": "execute_result"
    }
   ],
   "source": [
    "decipher(ciphered, decipher_dict)"
   ]
  },
  {
   "cell_type": "markdown",
   "metadata": {},
   "source": [
    "Все еще очень плохо"
   ]
  },
  {
   "cell_type": "code",
   "execution_count": 53,
   "metadata": {},
   "outputs": [
    {
     "data": {
      "text/plain": [
       "0.125"
      ]
     },
     "execution_count": 53,
     "metadata": {},
     "output_type": "execute_result"
    }
   ],
   "source": [
    "decipherQuality(cipher.cipher_dict, decipher_dict)"
   ]
  },
  {
   "cell_type": "markdown",
   "metadata": {},
   "source": [
    "3. Но и это ещё не всё: биграммы скорее всего тоже далеко не всегда работают. Основная часть задания — в том, как можно их улучшить:\n",
    "\n",
    "- предложите метод обучения перестановки символов в этом задании, основанный на MCMC-сэмплировании, но по-прежнему работающий на основе статистики биграмм;\n",
    "- реализуйте и протестируйте его, убедитесь, что результаты улучшились\n",
    "\n",
    "Прежде всего, построим критерий качества получаемого после расшифровки текста на основе статистики биграмм (в более общем случае - n-грамм). Будем считать, что текст - марковская цепь. В качестве критерия качества будем использовать логарифм правдоподобия текста:$$llh = \\sum \\log\\left(p(symbol_{i+n}|symbol_{i}, \\dots symbol_{i + n - 1})\\right)$$Здесь $\\log\\left(p(symbol_{i+n}|symbol_{i}, \\dots symbol_{i + n - 1})\\right)$ - логарифм условной вероятности появления символа при условии известных $(n - 1)$ предыдущих символов (для биграмм - при условии предыдущего символа). Эти вероятности будем оценивать на основе статистики n-грамм корпуса текстов."
   ]
  },
  {
   "cell_type": "code",
   "execution_count": 54,
   "metadata": {},
   "outputs": [],
   "source": [
    "def build_ngramm(alphabet, corpora_data, ngramm_length=2):\n",
    "    total_number = len(alphabet) ** ngramm_length\n",
    "    freques = {''.join(ngramm) : 1 for ngramm in product(alphabet, repeat=ngramm_length)}\n",
    "    \n",
    "    for line in corpora_data:\n",
    "        for i in range(len(line) - ngramm_length + 1):\n",
    "            ngramm = line[i : i + ngramm_length]\n",
    "            freques[ngramm] += 1\n",
    "            total_number += 1\n",
    "\n",
    "\n",
    "    freques_cond = {''.join(ngramm) : {symbol : 0 for symbol in alphabet} \n",
    "                    for ngramm in product(alphabet, repeat=ngramm_length - 1)}\n",
    "    tot_num = {''.join(ngramm) : 0 for ngramm in product(alphabet, repeat=ngramm_length - 1)}\n",
    "    for ngramm, freq in freques.items():\n",
    "        freques_cond[ngramm[:-1]][ngramm[-1]] += freq\n",
    "        tot_num[ngramm[:-1]] += freq\n",
    "    for prefix, freq_mar in freques_cond.items():\n",
    "        for symbol, freq in freq_mar.items():\n",
    "            freques_cond[prefix][symbol] = np.log(freq / tot_num[prefix])\n",
    "            \n",
    "    return freques_cond\n",
    "\n",
    "bigramm_logfreques_ru = build_ngramm(alphabet_ru, corpora_ru, ngramm_length=2)"
   ]
  },
  {
   "cell_type": "code",
   "execution_count": 55,
   "metadata": {},
   "outputs": [],
   "source": [
    "# логарифм правдоподобия текста по частотам биграмм\n",
    "def calculate_bigramm_LLH(text):\n",
    "    llh = bigramm_logfreques_ru[' '][text[0]]\n",
    "    for i in range(len(text) - 1):\n",
    "        llh += bigramm_logfreques_ru[text[i]][text[i + 1]]\n",
    "    return llh"
   ]
  },
  {
   "cell_type": "markdown",
   "metadata": {},
   "source": [
    "\n",
    "В качестве начального приближения возьмем декодирующую перестановку, полученную по частотам отдельных букв.\n",
    "\n",
    "Используя MCMC-сэмплирование, построим последовательность дешифрующих перестановок символов, переставляя на каждом шаге пару символов. Считаем, что распределение дешифрующих перестановок пропорционально правдоподобию расшифрованного текста. Перестановку с лучшим правдоподобием сохраняем."
   ]
  },
  {
   "cell_type": "code",
   "execution_count": 60,
   "metadata": {},
   "outputs": [],
   "source": [
    "def get_decipher_MCMC(ciphered, LLH, unigramm_dict, steps=100):\n",
    "    # начальное приближение - словарь по частотам отдельных букв\n",
    "    decipher_dict = getDecipherUnigramm(ciphered, unigramm_dict)\n",
    "    \n",
    "    # дополним начальное приближение до полного алфавита\n",
    "    for i, s in enumerate(unigramm_dict.keys() - decipher_dict.values()):\n",
    "        decipher_dict[chr(ord(max(decipher_dict.keys())) + 1 + i)] = s\n",
    "    \n",
    "    max_llh = LLH(decipher(ciphered, decipher_dict))\n",
    "    best_dict = decipher_dict.copy()\n",
    "    \n",
    "    prev_llh = max_llh\n",
    "\n",
    "    symbols = list(decipher_dict.keys())\n",
    "    symbols_pairs = list(combinations(symbols, 2))\n",
    "    \n",
    "    iteration = 0\n",
    "    while iteration < steps:\n",
    "        iteration += 1\n",
    "        for a, b in np.random.permutation(symbols_pairs):\n",
    "            new_dict = decipher_dict.copy()\n",
    "            new_dict[a], new_dict[b] = new_dict[b], new_dict[a]\n",
    "            llh = LLH(decipher(ciphered, new_dict))\n",
    "            if llh > prev_llh or random.random() < np.exp(llh - prev_llh):\n",
    "                decipher_dict = new_dict.copy()\n",
    "                prev_llh = llh\n",
    "\n",
    "            if llh > max_llh:\n",
    "                max_llh = llh\n",
    "                best_dict = new_dict.copy()\n",
    "                iteration = 0\n",
    "                break\n",
    "\n",
    "    return best_dict"
   ]
  },
  {
   "cell_type": "code",
   "execution_count": 62,
   "metadata": {},
   "outputs": [
    {
     "name": "stdout",
     "output_type": "stream",
     "text": [
      "CPU times: user 8.98 s, sys: 79.5 ms, total: 9.06 s\n",
      "Wall time: 9.16 s\n"
     ]
    }
   ],
   "source": [
    "%%time\n",
    "decipher_dict = get_decipher_MCMC(ciphered, calculate_bigramm_LLH, freques_ru)"
   ]
  },
  {
   "cell_type": "code",
   "execution_count": 63,
   "metadata": {},
   "outputs": [
    {
     "data": {
      "text/plain": [
       "'между тем холмс ненавидевший своей цыганской душой всякую форму светской жизни оставался жить в нашей квартире на бейкерстрит окруженный грудами своих старых книг чередуя недели увлечения кокаином с приступами честолюбия дремотное состояние наркомана с дикой энергией присущей его натуре'"
      ]
     },
     "execution_count": 63,
     "metadata": {},
     "output_type": "execute_result"
    }
   ],
   "source": [
    "decipher(ciphered, decipher_dict)"
   ]
  },
  {
   "cell_type": "code",
   "execution_count": 64,
   "metadata": {},
   "outputs": [
    {
     "data": {
      "text/plain": [
       "0.9411764705882353"
      ]
     },
     "execution_count": 64,
     "metadata": {},
     "output_type": "execute_result"
    }
   ],
   "source": [
    "decipherQuality(cipher.cipher_dict, decipher_dict)"
   ]
  },
  {
   "cell_type": "markdown",
   "metadata": {},
   "source": [
    "4. Расшифруйте сообщение:\n",
    "←⇠⇒↟↹↷⇊↹↷↟↤↟↨←↹↝⇛⇯↳⇴⇒⇈↝⇊↾↹↟⇒↟↹⇷⇛⇞↨↟↹↝⇛⇯↳⇴⇒⇈↝⇊↾↹↨←⇌⇠↨↹⇙↹⇸↨⇛↙⇛↹⇠⇛⇛↲⇆←↝↟↞↹⇌⇛↨⇛⇯⇊↾↹⇒←↙⇌⇛↹⇷⇯⇛⇞↟↨⇴↨⇈↹⇠⇌⇛⇯←←↹↷⇠←↙⇛↹↷⇊↹↷⇠←↹⇠↤←⇒⇴⇒↟↹⇷⇯⇴↷↟⇒⇈↝⇛↹↟↹⇷⇛⇒⇙⇞↟↨←↹↳⇴⇌⇠↟↳⇴⇒⇈↝⇊↾↹↲⇴⇒⇒↹⇰⇴↹⇷⇛⇠⇒←↤↝←←↹⇞←↨↷←⇯↨⇛←↹⇰⇴↤⇴↝↟←↹⇌⇙⇯⇠⇴↹↘⇛↨↞↹⇌⇛↝←⇞↝⇛↹↞↹↝↟⇞←↙⇛↹↝←↹⇛↲←⇆⇴⇏\n"
   ]
  },
  {
   "cell_type": "code",
   "execution_count": 65,
   "metadata": {},
   "outputs": [],
   "source": [
    "ciphered_4 = '←⇠⇒↟↹↷⇊↹↷↟↤↟↨←↹↝⇛⇯↳⇴⇒⇈↝⇊↾↹↟⇒↟↹⇷⇛⇞↨↟↹↝⇛⇯↳⇴⇒⇈↝⇊↾↹↨←⇌⇠↨↹⇙↹⇸↨⇛↙⇛↹⇠⇛⇛↲⇆←↝↟↞↹⇌⇛↨⇛⇯⇊↾↹⇒←↙⇌⇛↹⇷⇯⇛⇞↟↨⇴↨⇈↹⇠⇌⇛⇯←←↹↷⇠←↙⇛↹↷⇊↹↷⇠←↹⇠↤←⇒⇴⇒↟↹⇷⇯⇴↷↟⇒⇈↝⇛↹↟↹⇷⇛⇒⇙⇞↟↨←↹↳⇴⇌⇠↟↳⇴⇒⇈↝⇊↾↹↲⇴⇒⇒↹⇰⇴↹⇷⇛⇠⇒←↤↝←←↹⇞←↨↷←⇯↨⇛←↹⇰⇴↤⇴↝↟←↹⇌⇙⇯⇠⇴↹↘⇛↨↞↹⇌⇛↝←⇞↝⇛↹↞↹↝↟⇞←↙⇛↹↝←↹⇛↲←⇆⇴⇏'"
   ]
  },
  {
   "cell_type": "code",
   "execution_count": 67,
   "metadata": {},
   "outputs": [
    {
     "data": {
      "text/plain": [
       "'если вы вимите нордальный или почти нордальный текст у этого сообщения который легко прочитать скорее всего вы все смелали правильно и получите даксидальный балл за послемнее четвертое замание курса хотя конечно я ничего не обещаж'"
      ]
     },
     "execution_count": 67,
     "metadata": {},
     "output_type": "execute_result"
    }
   ],
   "source": [
    "decipher(\n",
    "    ciphered_4, \n",
    "    getDecipherMCMC(\n",
    "        ciphered_4, \n",
    "        calculate_bigramm_LLH, \n",
    "        freques_ru,\n",
    "        steps=1000\n",
    "    )\n",
    ")"
   ]
  },
  {
   "cell_type": "markdown",
   "metadata": {},
   "source": [
    "5. Бонус: а что если от биграмм перейти к триграммам (тройкам букв) или даже больше? Улучшатся ли результаты? Когда улучшатся, а когда нет? Чтобы ответить на этот вопрос эмпирически, уже может понадобиться погенерировать много тестовых перестановок и последить за метриками, глазами может быть и не видно."
   ]
  },
  {
   "cell_type": "code",
   "execution_count": 69,
   "metadata": {},
   "outputs": [],
   "source": [
    "trigramm_logfreques_ru = build_ngramm(alphabet_ru, corpora_ru, ngramm_length=3)"
   ]
  },
  {
   "cell_type": "code",
   "execution_count": 70,
   "metadata": {},
   "outputs": [],
   "source": [
    "def calculate_trigramm_LLH(text):\n",
    "    llh = bigramm_logfreques_ru[' '][text[0]] + bigramm_logfreques_ru[text[0]][text[1]]\n",
    "    for i in range(len(text) - 2):\n",
    "        llh += trigramm_logfreques_ru[text[i:i + 2]][text[i + 2]]\n",
    "    return llh"
   ]
  },
  {
   "cell_type": "code",
   "execution_count": 75,
   "metadata": {},
   "outputs": [
    {
     "data": {
      "text/plain": [
       "'если вы видите нормальный или почти нормальный текст у этого сообщения который легко прочитать скорее всего вы все сделали правильно и получите максимальный балл за последнее четвертое задание курса хотя конечно я ничего не обещаю'"
      ]
     },
     "execution_count": 75,
     "metadata": {},
     "output_type": "execute_result"
    }
   ],
   "source": [
    "decipher(\n",
    "    ciphered_4, \n",
    "    getDecipherMCMC(\n",
    "        ciphered_4, \n",
    "        calculate_trigramm_LLH, \n",
    "        freques_ru,\n",
    "        steps=1000\n",
    "    )\n",
    ")"
   ]
  },
  {
   "cell_type": "code",
   "execution_count": null,
   "metadata": {},
   "outputs": [],
   "source": []
  }
 ],
 "metadata": {
  "kernelspec": {
   "display_name": "Python 3",
   "language": "python",
   "name": "python3"
  },
  "language_info": {
   "codemirror_mode": {
    "name": "ipython",
    "version": 3
   },
   "file_extension": ".py",
   "mimetype": "text/x-python",
   "name": "python",
   "nbconvert_exporter": "python",
   "pygments_lexer": "ipython3",
   "version": "3.7.6"
  }
 },
 "nbformat": 4,
 "nbformat_minor": 4
}
